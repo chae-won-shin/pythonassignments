{
 "cells": [
  {
   "cell_type": "code",
   "execution_count": 10,
   "id": "001b1e55",
   "metadata": {},
   "outputs": [
    {
     "name": "stdout",
     "output_type": "stream",
     "text": [
      "a : [1 2 3]\n",
      "a.shape :  (3,)\n",
      "a.ndim :  1\n",
      "a.dtype :  int32\n",
      "a.itemsize :  4\n",
      "a.size :  3\n"
     ]
    }
   ],
   "source": [
    "#numpy의 ndarray 사용\n",
    "\n",
    "import numpy as np\n",
    "a = np.array([1,2,3]) #numpy의 array클래스를 사용하여 객체 생성\n",
    "print('a :', a) \n",
    "print('a.shape : ', a.shape)  #a 객체의 형태\n",
    "print('a.ndim : ', a.ndim)  #a 객체의 차원\n",
    "print('a.dtype : ', a.dtype) #a 객체 내부 자료형\n",
    "print('a.itemsize : ', a.itemsize)  #a 객체 내부 자료형이 차지하는 메모리 크기(byte) -> int의 byte수\n",
    "print('a.size : ', a.size)  #a 객체의 전체 크기"
   ]
  },
  {
   "cell_type": "code",
   "execution_count": 11,
   "id": "314052a6",
   "metadata": {},
   "outputs": [
    {
     "name": "stdout",
     "output_type": "stream",
     "text": [
      "int32\n",
      "int64\n",
      "int64\n"
     ]
    }
   ],
   "source": [
    "#numpy와 데이터형\n",
    "\n",
    "a = np.array([1,2,3], dtype = 'int32')\n",
    "b = np.array([4,5,6], dtype = 'int64')  #int32와 int64는 저장용량의 범위가 다름. 보통 int만 쓰면 int32를 의미\n",
    "print(a.dtype)\n",
    "print(b.dtype)\n",
    "c = a+b\n",
    "print(c.dtype)  #큰 공간에 맞춤"
   ]
  },
  {
   "cell_type": "code",
   "execution_count": 12,
   "id": "a8786ac3",
   "metadata": {},
   "outputs": [
    {
     "ename": "TypeError",
     "evalue": "array() takes from 1 to 2 positional arguments but 4 were given",
     "output_type": "error",
     "traceback": [
      "\u001b[1;31m---------------------------------------------------------------------------\u001b[0m",
      "\u001b[1;31mTypeError\u001b[0m                                 Traceback (most recent call last)",
      "Input \u001b[1;32mIn [12]\u001b[0m, in \u001b[0;36m<cell line: 3>\u001b[1;34m()\u001b[0m\n\u001b[0;32m      1\u001b[0m \u001b[38;5;66;03m#ndarray 배열을 생성할 때 주의점\u001b[39;00m\n\u001b[1;32m----> 3\u001b[0m a \u001b[38;5;241m=\u001b[39m \u001b[43mnp\u001b[49m\u001b[38;5;241;43m.\u001b[39;49m\u001b[43marray\u001b[49m\u001b[43m(\u001b[49m\u001b[38;5;241;43m1\u001b[39;49m\u001b[43m,\u001b[49m\u001b[38;5;241;43m2\u001b[39;49m\u001b[43m,\u001b[49m\u001b[38;5;241;43m3\u001b[39;49m\u001b[43m,\u001b[49m\u001b[38;5;241;43m4\u001b[39;49m\u001b[43m)\u001b[49m\n",
      "\u001b[1;31mTypeError\u001b[0m: array() takes from 1 to 2 positional arguments but 4 were given"
     ]
    }
   ],
   "source": [
    "#ndarray 배열을 생성할 때 주의점 : 반드시 대괄호를 사용하여 리스트 형식의 데이터를 인자로 넣어야 함\n",
    "\n",
    "a = np.array(1,2,3,4)\n",
    "#a = np.array([1,2,3,4]) 가 맞는 구문"
   ]
  },
  {
   "cell_type": "code",
   "execution_count": 13,
   "id": "57625f91",
   "metadata": {},
   "outputs": [
    {
     "ename": "ValueError",
     "evalue": "invalid literal for int() with base 10: 'two'",
     "output_type": "error",
     "traceback": [
      "\u001b[1;31m---------------------------------------------------------------------------\u001b[0m",
      "\u001b[1;31mValueError\u001b[0m                                Traceback (most recent call last)",
      "Input \u001b[1;32mIn [13]\u001b[0m, in \u001b[0;36m<cell line: 3>\u001b[1;34m()\u001b[0m\n\u001b[0;32m      1\u001b[0m \u001b[38;5;66;03m# ndarray 배열을 생성할 때 주의점 : 넘파이의 ndarray는 리스트와 달리 서로 다른 자료형의 값을 원소로 가질 수 없음\u001b[39;00m\n\u001b[1;32m----> 3\u001b[0m a \u001b[38;5;241m=\u001b[39m \u001b[43mnp\u001b[49m\u001b[38;5;241;43m.\u001b[39;49m\u001b[43marray\u001b[49m\u001b[43m(\u001b[49m\u001b[43m[\u001b[49m\u001b[38;5;241;43m1\u001b[39;49m\u001b[43m,\u001b[49m\u001b[43m \u001b[49m\u001b[38;5;124;43m'\u001b[39;49m\u001b[38;5;124;43mtwo\u001b[39;49m\u001b[38;5;124;43m'\u001b[39;49m\u001b[43m,\u001b[49m\u001b[43m \u001b[49m\u001b[38;5;241;43m3\u001b[39;49m\u001b[43m,\u001b[49m\u001b[43m \u001b[49m\u001b[38;5;241;43m4\u001b[39;49m\u001b[43m]\u001b[49m\u001b[43m,\u001b[49m\u001b[43m \u001b[49m\u001b[43mdtype\u001b[49m\u001b[43m \u001b[49m\u001b[38;5;241;43m=\u001b[39;49m\u001b[43m \u001b[49m\u001b[43mnp\u001b[49m\u001b[38;5;241;43m.\u001b[39;49m\u001b[43mint32\u001b[49m\u001b[43m)\u001b[49m\n",
      "\u001b[1;31mValueError\u001b[0m: invalid literal for int() with base 10: 'two'"
     ]
    }
   ],
   "source": [
    "# ndarray 배열을 생성할 때 주의점 : 넘파이의 ndarray는 리스트와 달리 서로 다른 자료형의 값을 원소로 가질 수 없음\n",
    "\n",
    "a = np.array([1, 'two', 3, 4], dtype = np.int32)  #데이터 타입 지정은 np.int32와 같이 np의 속성 값으로 지정해도 되고,\n",
    "                                                  # 'int32' 와 같이 문자열 형식으로 지정해도 된다."
   ]
  },
  {
   "cell_type": "code",
   "execution_count": 15,
   "id": "a0c854c5",
   "metadata": {},
   "outputs": [
    {
     "name": "stdout",
     "output_type": "stream",
     "text": [
      "['2' 'two' '3' '4']\n"
     ]
    }
   ],
   "source": [
    "# 자료형을 섞어서 쓴 뒤 뒤에 자료형을 명시하지 않을 경우 전부 str형으로 자동 형변환. -> 사칙연산 등의 연산 사용 불가\n",
    "\n",
    "a = np.array([2, 'two', 3, 4])\n",
    "print(a)"
   ]
  },
  {
   "cell_type": "code",
   "execution_count": 31,
   "id": "40f34b8f",
   "metadata": {},
   "outputs": [
    {
     "name": "stdout",
     "output_type": "stream",
     "text": [
      "array( [0 1 2 3 4 5 6 7 8 9] )\n",
      "array( [0 1 2 3 4 5 6 7 8 9] )\n",
      "array( [0 2 4 6 8] )\n",
      "c.shape = (5,)\n",
      "c.ndim = 1\n",
      "c.dtype = int32\n",
      "c.size = 5\n",
      "c.itemsize = 4\n"
     ]
    }
   ],
   "source": [
    "#LAB 11-1\n",
    "\n",
    "#1\n",
    "a = np.array([0, 1, 2, 3, 4, 5, 6, 7, 8, 9])\n",
    "print('array(',a,')')\n",
    "\n",
    "#2\n",
    "b = np.array(range(0,10))\n",
    "print('array(',b,')')\n",
    "\n",
    "#3\n",
    "c = np.array(range(0,10,2))\n",
    "print('array(',c,')')\n",
    "\n",
    "#4\n",
    "print('c.shape =', c.shape)\n",
    "print('c.ndim =', c.ndim)\n",
    "print('c.dtype =', c.dtype)\n",
    "print('c.size =', c.size)\n",
    "print('c.itemsize =', c.itemsize)"
   ]
  },
  {
   "cell_type": "code",
   "execution_count": 33,
   "id": "fb780af1",
   "metadata": {},
   "outputs": [
    {
     "name": "stdout",
     "output_type": "stream",
     "text": [
      "3\n",
      "1\n",
      "2.0\n",
      "[1 1 2 2 3 3]\n"
     ]
    }
   ],
   "source": [
    "#ndarray의 메소드와 주요 함수\n",
    "\n",
    "#ndarray\n",
    "a = np.array([1,2,3])\n",
    "print(a.max())\n",
    "print(a.min())\n",
    "print(a.mean())\n",
    "\n",
    "#flatten\n",
    "a = np.array([[1,1], [2,2], [3,3]])\n",
    "print(a.flatten()) #평탄화 메소드"
   ]
  },
  {
   "cell_type": "code",
   "execution_count": 42,
   "id": "74c62f87",
   "metadata": {},
   "outputs": [
    {
     "name": "stdout",
     "output_type": "stream",
     "text": [
      "[23 45 67  7  2 30 34 82]\n",
      "최댓값 :  82\n",
      "최솟값 :  2\n",
      "평균 :  36.25\n",
      "\n",
      "75\n",
      "최댓값 :  82\n",
      "최솟값 :  2\n",
      "평균 :  36.25\n",
      "\n",
      "c = [23 45 67  7  2 30 34 82 75]\n"
     ]
    }
   ],
   "source": [
    "#LAB 11-2\n",
    "#1\n",
    "a = np.array([23, 45, 67, 7, 2, 30, 34, 82])\n",
    "print(a)\n",
    "print('최댓값 : ', a.max())\n",
    "print('최솟값 : ', a.min())\n",
    "print('평균 : ', a.mean())\n",
    "print()\n",
    "\n",
    "#2\n",
    "b = np.array(np.random.randint(0,100))\n",
    "print(b)\n",
    "print('최댓값 : ', a.max())\n",
    "print('최솟값 : ', a.min())\n",
    "print('평균 : ', a.mean())\n",
    "print()\n",
    "\n",
    "#3\n",
    "c = np.append(a,b)\n",
    "print('c =', c)"
   ]
  },
  {
   "cell_type": "code",
   "execution_count": 43,
   "id": "2c3ca401",
   "metadata": {},
   "outputs": [
    {
     "name": "stdout",
     "output_type": "stream",
     "text": [
      "[5 7 9]\n"
     ]
    }
   ],
   "source": [
    "#ndarray 덧셈(shape이 같은 경우)\n",
    "a = np.array([1,2,3])\n",
    "b = np.array([4,5,6])\n",
    "c = a+b\n",
    "print(c)\n",
    "\n",
    "#ndarray 곱셈(shape이 다른 경우 - 오류)\n",
    "#a = np.array([1,2])\n",
    "#b = np.array([3,4,5])"
   ]
  },
  {
   "cell_type": "code",
   "execution_count": 48,
   "id": "2f2ccdff",
   "metadata": {},
   "outputs": [
    {
     "name": "stdout",
     "output_type": "stream",
     "text": [
      "[[11 22]\n",
      " [33 44]]\n",
      "[[ -9 -18]\n",
      " [-27 -36]]\n",
      "[[ 10  40]\n",
      " [ 90 160]]\n",
      "[[0.1 0.1]\n",
      " [0.1 0.1]]\n",
      "\n",
      "[[ 70 100]\n",
      " [150 220]]\n",
      "[[ 70 100]\n",
      " [150 220]]\n",
      "70\n",
      "100\n",
      "150\n",
      "220\n"
     ]
    }
   ],
   "source": [
    "#이차원 ndarray 연산\n",
    "a = np.array([[1,2], [3,4]])\n",
    "b = np.array([[10,20], [30,40]])\n",
    "print(a+b)\n",
    "print(a-b)\n",
    "print(a*b)\n",
    "print(a/b)\n",
    "print()\n",
    "\n",
    "#행렬곱: matmul()\n",
    "print(np.matmul(a,b))\n",
    "print(a@b)  # == matmul\n",
    "print(a[0,0]*b[0,0] + a[0,1]*b[1,0]) \n",
    "print(a[0,0]*b[0,1] + a[0,1]*b[1,1])\n",
    "print(a[1,0]*b[0,0] + a[1,1]*b[1,0])\n",
    "print(a[1,0]*b[0,1] + a[1,1]*b[1,1])"
   ]
  },
  {
   "cell_type": "code",
   "execution_count": 49,
   "id": "72d11b9d",
   "metadata": {},
   "outputs": [
    {
     "name": "stdout",
     "output_type": "stream",
     "text": [
      "[[2 3]\n",
      " [4 5]]\n",
      "[[0 1]\n",
      " [2 3]]\n",
      "[[100 200]\n",
      " [300 400]]\n",
      "[[0.01 0.02]\n",
      " [0.03 0.04]]\n",
      "[[ 1  4]\n",
      " [ 9 16]]\n"
     ]
    }
   ],
   "source": [
    "#이차원 ndarray의 덧셈, 뺄셈, 곱셈, 나눗셈, 제곱\n",
    "a = np.array([[1,2], [3,4]])\n",
    "print(a+1)\n",
    "print(a-1)\n",
    "print(a*100)\n",
    "print(a/100)\n",
    "print(a**2)"
   ]
  },
  {
   "cell_type": "code",
   "execution_count": 64,
   "id": "8954ff7b",
   "metadata": {},
   "outputs": [
    {
     "name": "stdout",
     "output_type": "stream",
     "text": [
      "a =  [[1 2 3]\n",
      " [4 5 6]\n",
      " [7 8 9]]\n",
      "\n",
      "b =  [[2. 2. 2.]\n",
      " [2. 2. 2.]\n",
      " [2. 2. 2.]]\n",
      "\n",
      "[[ 3.  4.  5.]\n",
      " [ 6.  7.  8.]\n",
      " [ 9. 10. 11.]]\n",
      "[[-1.  0.  1.]\n",
      " [ 2.  3.  4.]\n",
      " [ 5.  6.  7.]]\n",
      "[[ 2.  4.  6.]\n",
      " [ 8. 10. 12.]\n",
      " [14. 16. 18.]]\n",
      "[[0.5 1.  1.5]\n",
      " [2.  2.5 3. ]\n",
      " [3.5 4.  4.5]]\n",
      "[[12. 12. 12.]\n",
      " [30. 30. 30.]\n",
      " [48. 48. 48.]]\n",
      "[[ 1  4  9]\n",
      " [16 25 36]\n",
      " [49 64 81]]\n"
     ]
    }
   ],
   "source": [
    "#LAB 11-3\n",
    "#1\n",
    "a = np.arange(1,10)\n",
    "a = a.reshape(3,3)\n",
    "print('a = ', a)\n",
    "print()\n",
    "\n",
    "b = np.ones((3,3))\n",
    "b = b+1\n",
    "print('b = ', b)\n",
    "print()\n",
    "\n",
    "print(a+b)\n",
    "print(a-b)\n",
    "print(a*b)\n",
    "print(a/b)\n",
    "print(a@b)\n",
    "print(a**2)"
   ]
  },
  {
   "cell_type": "code",
   "execution_count": 76,
   "id": "ea51924e",
   "metadata": {},
   "outputs": [
    {
     "name": "stdout",
     "output_type": "stream",
     "text": [
      "[[0. 0. 0.]\n",
      " [0. 0. 0.]]\n",
      "[[1. 1. 1.]\n",
      " [1. 1. 1.]]\n",
      "[[100 100 100]\n",
      " [100 100 100]]\n",
      "[[1. 0. 0.]\n",
      " [0. 1. 0.]\n",
      " [0. 0. 1.]]\n",
      "[[0.61007471 0.63014134 0.63081658]\n",
      " [0.45085846 0.886097   0.9127193 ]]\n",
      "[0 1 2 3 4 5 6 7 8 9]\n",
      "[0 2 4 6 8]\n",
      "[0 3 6 9]\n",
      "[0.  0.2 0.4 0.6 0.8]\n",
      "[ 0.   2.5  5.   7.5 10. ]\n",
      "[ 0.          3.33333333  6.66666667 10.        ]\n"
     ]
    }
   ],
   "source": [
    "#ndarray의 생성\n",
    "\n",
    "print(np.zeros((2,3))) #모든 값이 0인 2*3 크기 행렬\n",
    "print(np.ones((2,3))) #모든 값이 1인 2*3 크기 행렬\n",
    "print(np.full((2,3),100)) #모든 값이 100인 2*3 행렬\n",
    "print(np.eye(3))  #3*3 크기의 단위행렬(단위행렬 : 정방행렬 중에서 대각선 성분이 1이고, 나머지 성분이 0인 행렬)\n",
    "print(np.random.random((2,3))) #2*3 크기의 랜덤행렬\n",
    "print(np.arange(0,10))\n",
    "print(np.arange(0,10,2))\n",
    "print(np.arange(0,10,3))\n",
    "print(np.arange(0.0, 1.0, 0.2))\n",
    "print(np.linspace(0,10,5))\n",
    "print(np.linspace(0,10,4))"
   ]
  },
  {
   "cell_type": "code",
   "execution_count": 82,
   "id": "232f1646",
   "metadata": {},
   "outputs": [
    {
     "name": "stdout",
     "output_type": "stream",
     "text": [
      "[[2 2 2]\n",
      " [2 2 2]\n",
      " [2 2 2]]\n",
      "\n",
      "[ 1  2  3  4  5  6  7  8  9 10 11 12]\n",
      "\n",
      "[ 3  6  9 12 15 18 21 24 27 30 33 36 39 42 45 48]\n",
      "\n",
      "[ 0  5 10 15 20]\n"
     ]
    }
   ],
   "source": [
    "#LAB 11-4\n",
    "\n",
    "#1.\n",
    "a1 = np.full((3,3),2)\n",
    "print(a1)\n",
    "print()\n",
    "\n",
    "#2.\n",
    "a2 = np.arange(1,13)\n",
    "print(a2)\n",
    "print()\n",
    "\n",
    "#3.\n",
    "a3 = np.arange(3,49,3)\n",
    "print(a3)\n",
    "print()\n",
    "\n",
    "#4.\n",
    "a4 = np.arange(0,21,5)\n",
    "print(a4)"
   ]
  },
  {
   "cell_type": "code",
   "execution_count": 85,
   "id": "81615b60",
   "metadata": {},
   "outputs": [
    {
     "name": "stdout",
     "output_type": "stream",
     "text": [
      "[[0 1 2 3 4]\n",
      " [5 6 7 8 9]]\n",
      "\n",
      "[[0 1]\n",
      " [2 3]\n",
      " [4 5]\n",
      " [6 7]\n",
      " [8 9]]\n"
     ]
    }
   ],
   "source": [
    "#ndarray의 재구성\n",
    "temp = np.arange(0,10)\n",
    "temp = temp.reshape(2,5)\n",
    "print(temp)\n",
    "print()\n",
    "\n",
    "temp = np.arange(0,10)\n",
    "temp = temp.reshape(5,2)\n",
    "print(temp)\n",
    "\n",
    "#temp = np.arange(0,10)\n",
    "#temp.reshape(3,3)\n",
    "#개수 안맞아서 오류"
   ]
  },
  {
   "cell_type": "code",
   "execution_count": 92,
   "id": "e053fcfa",
   "metadata": {},
   "outputs": [
    {
     "name": "stdout",
     "output_type": "stream",
     "text": [
      "[[[ 0  1]\n",
      "  [ 2  3]\n",
      "  [ 4  5]]\n",
      "\n",
      " [[ 6  7]\n",
      "  [ 8  9]\n",
      "  [10 11]]\n",
      "\n",
      " [[12 13]\n",
      "  [14 15]\n",
      "  [16 17]]\n",
      "\n",
      " [[18 19]\n",
      "  [20 21]\n",
      "  [22 23]]]\n",
      "\n",
      "[[0 1]\n",
      " [2 3]\n",
      " [4 5]]\n",
      "\n",
      "[[0 2 4]\n",
      " [1 3 5]]\n",
      "\n",
      "[[ 0  1  2  3  4]\n",
      " [ 5  6  7  8  9]\n",
      " [10 11 12 13 14]] \n",
      "\n",
      "[[ 0  5 10]\n",
      " [ 1  6 11]\n",
      " [ 2  7 12]\n",
      " [ 3  8 13]\n",
      " [ 4  9 14]]\n"
     ]
    }
   ],
   "source": [
    "temp = np.arange(0,24).reshape(4,3,2)\n",
    "print(temp)\n",
    "print()\n",
    "\n",
    "a = np.arange(6).reshape(3,2)\n",
    "print(a)\n",
    "print()\n",
    "\n",
    "a = np.transpose(a)  #행렬 차원을 뒤집음. (3,2)면 (2,3)으로\n",
    "print(a)\n",
    "print()\n",
    "\n",
    "a = np.arange(15).reshape(3,5)\n",
    "print(a, '\\n')\n",
    "a = np.transpose(a)\n",
    "print(a)"
   ]
  },
  {
   "cell_type": "code",
   "execution_count": 98,
   "id": "bcd9eaf5",
   "metadata": {},
   "outputs": [
    {
     "name": "stdout",
     "output_type": "stream",
     "text": [
      "a1 =  [[ 1  2  3  4  5  6]\n",
      " [ 7  8  9 10 11 12]]\n",
      "\n",
      "a2 =  [[ 1  2  3  4  5  6  7  8  9 10]\n",
      " [11 12 13 14 15 16 17 18 19 20]\n",
      " [21 22 23 24 25 26 27 28 29 30]]\n",
      "\n",
      "a3 =  [[ 1  2  3  4  5]\n",
      " [ 6  7  8  9 10]\n",
      " [11 12 13 14 15]\n",
      " [16 17 18 19 20]\n",
      " [21 22 23 24 25]\n",
      " [26 27 28 29 30]]\n",
      "\n",
      "a4 =  [[ 1  6 11 16 21 26]\n",
      " [ 2  7 12 17 22 27]\n",
      " [ 3  8 13 18 23 28]\n",
      " [ 4  9 14 19 24 29]\n",
      " [ 5 10 15 20 25 30]]\n"
     ]
    }
   ],
   "source": [
    "#LAB 11-5\n",
    "#1\n",
    "a1 = np.arange(1,13).reshape(2,6)\n",
    "print('a1 = ', a1)\n",
    "print()\n",
    "\n",
    "#2\n",
    "a2 = np.arange(1,31).reshape(3,10)\n",
    "print('a2 = ', a2)\n",
    "print()\n",
    "\n",
    "#3\n",
    "a3 = a2.reshape(6,5)\n",
    "print('a3 = ', a3)\n",
    "print()\n",
    "\n",
    "#4\n",
    "a4 = np.transpose(a3)\n",
    "print('a4 = ', a4)"
   ]
  },
  {
   "cell_type": "code",
   "execution_count": 103,
   "id": "6a22cd9c",
   "metadata": {},
   "outputs": [
    {
     "name": "stdout",
     "output_type": "stream",
     "text": [
      "[1 2 3 4 5]\n",
      "[1,2,3,4,5]\n",
      "array([1, 2, 3, 4, 5])\n"
     ]
    }
   ],
   "source": [
    "#참고: ndarray 출력할 때 콤마를 넣어서 출력하는 방법\n",
    "ar = np.array([1,2,3,4,5])\n",
    "\n",
    "#그냥 출력\n",
    "print(ar)\n",
    "#콤마 넣어서 출력\n",
    "print(np.array2string(ar, separator = ','))\n",
    "#repr() 함수 사용(represent)\n",
    "print(repr(ar))"
   ]
  },
  {
   "cell_type": "code",
   "execution_count": 106,
   "id": "f24143e0",
   "metadata": {},
   "outputs": [
    {
     "name": "stdout",
     "output_type": "stream",
     "text": [
      "array([[0, 1],\n",
      "       [2, 3],\n",
      "       [4, 5]])\n",
      "15\n",
      "[6 9]\n",
      "[1 5 9]\n",
      "\n",
      "[0 1]\n",
      "[0 2 4]\n",
      "[4 5]\n",
      "[1 3 5]\n"
     ]
    }
   ],
   "source": [
    "#다차원 배열의 축\n",
    "a = np.arange(0,6).reshape(3,2)\n",
    "print(repr(a))\n",
    "\n",
    "print(a.sum())\n",
    "print(a.sum(axis = 0))  #0축 방향(열 방향) 원소의 합(위에서 아래로)\n",
    "print(a.sum(axis = 1))  #1축 방향(행 방향) 원소의 합(왼쪽에서 오른쪽으로)\n",
    "\n",
    "print()\n",
    "print(a.min(axis = 0))\n",
    "print(a.min(axis = 1))\n",
    "print(a.max(axis = 0))\n",
    "print(a.max(axis = 1))"
   ]
  },
  {
   "cell_type": "code",
   "execution_count": 107,
   "id": "17e4be33",
   "metadata": {},
   "outputs": [
    {
     "name": "stdout",
     "output_type": "stream",
     "text": [
      "[1 2 3 4]\n",
      "[[1 1]\n",
      " [4 4]\n",
      " [2 2]\n",
      " [3 3]]\n",
      "[[1 4 1]\n",
      " [2 4 2]\n",
      " [3 4 3]]\n"
     ]
    }
   ],
   "source": [
    "a = np.array([1,3,4])\n",
    "print(np.insert(a,1,2))\n",
    "a = np.array([[1,1],[2,2],[3,3]])\n",
    "print(np.insert(a,1,4, axis = 0))\n",
    "print(np.insert(a,1,4, axis = 1))"
   ]
  },
  {
   "cell_type": "code",
   "execution_count": 116,
   "id": "4b2d1e10",
   "metadata": {},
   "outputs": [
    {
     "name": "stdout",
     "output_type": "stream",
     "text": [
      "a =  [[29 77 85 91  8]\n",
      " [59 61 98 77 38]\n",
      " [43 99 57 94 52]]\n",
      "\n",
      "a의 열방향 최댓값 :  [59 99 98 94 52]\n",
      "a의 열방향 최솟값 :  [29 61 57 77  8]\n",
      "a의 열방향 평균 :  [43.66666667 79.         80.         87.33333333 32.66666667]\n",
      "\n",
      "a의 행방향 최댓값 :  [91 98 99]\n",
      "a의 행방향 최솟값 :  [ 8 38 43]\n",
      "a의 행방향 평균 :  [58.  66.6 69. ]\n",
      "\n"
     ]
    }
   ],
   "source": [
    "#LAB 11-6\n",
    "#1\n",
    "a = np.random.randint(1,100,15).reshape(3,5)\n",
    "print('a = ', a)\n",
    "print()\n",
    "\n",
    "#2\n",
    "print('a의 열방향 최댓값 : ', a.max(axis = 0))\n",
    "print('a의 열방향 최솟값 : ', a.min(axis = 0))\n",
    "print('a의 열방향 평균 : ', a.mean(axis = 0))\n",
    "print()\n",
    "\n",
    "#3\n",
    "print('a의 행방향 최댓값 : ', a.max(axis = 1))\n",
    "print('a의 행방향 최솟값 : ', a.min(axis = 1))\n",
    "print('a의 행방향 평균 : ', a.mean(axis = 1))\n",
    "print()"
   ]
  },
  {
   "cell_type": "code",
   "execution_count": 121,
   "id": "e48915b5",
   "metadata": {},
   "outputs": [
    {
     "name": "stdout",
     "output_type": "stream",
     "text": [
      "1 2 3\n",
      "3 2 1\n",
      "\n",
      "[1 2]\n",
      "[1 2 3]\n",
      "[1 2 4]\n",
      "[2 2 2 2]\n",
      "\n",
      "[20, 30, 40, 50]\n",
      "\n",
      "[20 30 40 50]\n",
      "[20 30 40 50 60 70 80]\n",
      "[10 20 30 40 50 60 70 80]\n",
      "[10 30 50 70]\n",
      "[80 70 60 50 40 30 20 10]\n"
     ]
    }
   ],
   "source": [
    "#배열의 인덱싱\n",
    "a = np.array([1,2,3])\n",
    "print(a[0], a[1], a[2])\n",
    "print(a[-1], a[-2], a[-3])\n",
    "print()\n",
    "\n",
    "#여러 원소 인덱싱\n",
    "a = np.array([1,2,3,4,5])\n",
    "print(a[np.array([0,1])])\n",
    "print(a[np.array([0,1,2])])\n",
    "print(a[np.array([0,1,3])])\n",
    "print(a[np.array([1,1,1,1])])\n",
    "print()\n",
    "\n",
    "#리스트와 슬라이싱\n",
    "a_list = [10, 20, 30, 40, 50, 60, 70, 80]\n",
    "print(a_list[1:5])\n",
    "print()\n",
    "\n",
    "#넘파이의 슬라이싱\n",
    "a = np.array([10,20,30,40,50,60,70,80])\n",
    "print(a[1:5])\n",
    "print(a[1:])\n",
    "print(a[:])\n",
    "print(a[::2])  #양수 2의 스텝값\n",
    "print(a[::-1]) #음수 스텝값"
   ]
  },
  {
   "cell_type": "code",
   "execution_count": 126,
   "id": "bb7bb330",
   "metadata": {},
   "outputs": [
    {
     "name": "stdout",
     "output_type": "stream",
     "text": [
      "[ 1  2  3  4  5  6  7  8  9 10]\n",
      "[2 4 6 8]\n",
      "[ 6  7  8  9 10]\n",
      "[ 7  8  9 10]\n",
      "[1 2 3]\n",
      "[1 3 5 7 9]\n",
      "[10  8  6  4  2]\n"
     ]
    }
   ],
   "source": [
    "#LAB 11-7\n",
    "#1\n",
    "a = np.arange(1,11)\n",
    "print(a)\n",
    "print(a[np.array([1,3,5,7])])\n",
    "\n",
    "#2\n",
    "b = a[5:]\n",
    "c = a[6:]\n",
    "d = a[:3]\n",
    "e = a[::2]\n",
    "f = a[::-2]\n",
    "print(b)\n",
    "print(c)\n",
    "print(d)\n",
    "print(e)\n",
    "print(f)"
   ]
  },
  {
   "cell_type": "code",
   "execution_count": 168,
   "id": "833117b7",
   "metadata": {},
   "outputs": [
    {
     "name": "stdout",
     "output_type": "stream",
     "text": [
      "index     element\n",
      "(0,0,0)      0\n",
      "(0,0,1)      1\n",
      "(0,1,0)      2\n",
      "(0,1,1)      3\n",
      "(0,2,0)      4\n",
      "(0,2,1)      5\n",
      "(1,0,0)      6\n",
      "(1,0,1)      7\n",
      "(1,1,0)      8\n",
      "(1,1,1)      9\n",
      "(1,2,0)      10\n",
      "(1,2,1)      11\n",
      "(2,0,0)      12\n",
      "(2,0,1)      13\n",
      "(2,1,0)      14\n",
      "(2,1,1)      15\n",
      "(2,2,0)      16\n",
      "(2,2,1)      17\n",
      "(3,0,0)      18\n",
      "(3,0,1)      19\n",
      "(3,1,0)      20\n",
      "(3,1,1)      21\n",
      "(3,2,0)      22\n",
      "(3,2,1)      23\n",
      "\n",
      "array([0, 1, 6, 7])\n",
      "array([ 0,  1, 14, 15])\n",
      "array([[ 0,  1],\n",
      "       [ 2,  3],\n",
      "       [ 4,  5],\n",
      "       [ 6,  7],\n",
      "       [ 8,  9],\n",
      "       [10, 11]])\n",
      "array([[ 0,  1,  6,  7],\n",
      "       [ 2,  3,  8,  9],\n",
      "       [ 4,  5, 10, 11]])\n"
     ]
    }
   ],
   "source": [
    "#LAB 11-8\n",
    "#1\n",
    "a = np.arange(0,24).reshape(4,3,2)\n",
    "print('index     element')\n",
    "for i in range(4):\n",
    "    for j in range(3):\n",
    "        print('({},{},{})     '.format(i,j,0), a[i,j,0])\n",
    "        print('({},{},{})     '.format(i,j,1), a[i,j,1])\n",
    "print()\n",
    "        \n",
    "b = np.concatenate((a[0,0], a[1,0]), axis = 0)\n",
    "print(repr(b))\n",
    "\n",
    "c = np.concatenate((a[0,0], a[2,1]), axis = 0)\n",
    "print(repr(c))\n",
    "\n",
    "d = np.concatenate((a[0], a[1]), axis = 0)\n",
    "print(repr(d))\n",
    "\n",
    "e = np.concatenate((a[0], a[1]), axis = 1)\n",
    "print(repr(e))"
   ]
  },
  {
   "cell_type": "code",
   "execution_count": 13,
   "id": "72ea1675",
   "metadata": {},
   "outputs": [
    {
     "name": "stdout",
     "output_type": "stream",
     "text": [
      "b =  [ 1  5  9 13]\n",
      "c =  [ 9 10 11]\n",
      "d =  [[0 1]\n",
      " [4 5]]\n",
      "e =  [[ 5  6]\n",
      " [ 9 10]]\n",
      "f =  [0 1 2 4 5 6]\n",
      "g =  [ 8  9 10 11 12 13 14 15]\n",
      "h =  [ 5  6  7 13 14 15]\n"
     ]
    }
   ],
   "source": [
    "#LAB 11-9\n",
    "#1\n",
    "import numpy as np\n",
    "\n",
    "a = np.arange(0,16).reshape(4,4)\n",
    "\n",
    "b = a[:, 1]\n",
    "print('b = ', b)\n",
    "\n",
    "c = a[2, 1:]\n",
    "print('c = ', c)\n",
    "\n",
    "d = a[0:2, 0:2]\n",
    "print('d = ', d)\n",
    "\n",
    "e = a[1:3, 1:3]\n",
    "print('e = ', e)\n",
    "\n",
    "\n",
    "#2\n",
    "f = a[:2, :3]\n",
    "f = f.flatten()\n",
    "print('f = ', f)\n",
    "\n",
    "g = a[2:] #or g = a[2: , :]\n",
    "g = g.flatten()\n",
    "print('g = ', g)\n",
    "\n",
    "temp_1 = a[1, 1:]\n",
    "temp_2 = a[3, 1:]\n",
    "h = np.append(temp_1, temp_2)\n",
    "h = h.flatten()\n",
    "print('h = ', h)"
   ]
  },
  {
   "cell_type": "code",
   "execution_count": 127,
   "id": "fcba64b0",
   "metadata": {},
   "outputs": [
    {
     "name": "stdout",
     "output_type": "stream",
     "text": [
      "[ 2. -1.]\n"
     ]
    }
   ],
   "source": [
    "#선형연립방정식\n",
    "# 2x + 3y = 1\n",
    "#  x - 2y = 4\n",
    "\n",
    "a = np.array([[2,3], [1,-2]])  #계수\n",
    "b = np.array([1,4])   #답\n",
    "x = np.linalg.solve(a,b) \n",
    "print(x)"
   ]
  },
  {
   "cell_type": "code",
   "execution_count": 25,
   "id": "16fabd20",
   "metadata": {},
   "outputs": [
    {
     "name": "stdout",
     "output_type": "stream",
     "text": [
      "x = 1.0, y = 2.0, z = 3.0\n",
      "\n",
      "-11.0\n",
      "\n",
      "3*3 행렬식 계산        : -11.000000000000002\n",
      "3개의 2*2 g행렬식 계산 : -11.000000000000002\n"
     ]
    }
   ],
   "source": [
    "#LAB 11-10\n",
    "#1\n",
    "a = np.array([[1,1,-1], [2,-1,3], [1,2,1]])\n",
    "b = np.array([[0], [9], [8]])\n",
    "x = np.linalg.solve(a,b)\n",
    "print('x = {:.1f}, y = {:.1f}, z = {:.1f}'.format(x[0,0], x[1,0], x[2,0]))\n",
    "print()\n",
    "\n",
    "#2\n",
    "A = np.array([[1,1,-1], [2,-1,3], [1,2,1]], dtype = 'int32')\n",
    "A = np.linalg.det(A)\n",
    "print('{:.1f}'.format(A))\n",
    "print()\n",
    "\n",
    "#3\n",
    "A = np.array([[1,1,-1], [2,-1,3], [1,2,1]], dtype = 'int32')\n",
    "a = A[0,0]\n",
    "b = A[0,1]\n",
    "c = A[0,2]\n",
    "a_mul = A[1:, 1:]\n",
    "b_mul = A[1:, ::2]\n",
    "c_mul = A[1:, :2]\n",
    "a_mul = np.linalg.det(a_mul)\n",
    "b_mul = np.linalg.det(b_mul)\n",
    "c_mul = np.linalg.det(c_mul)\n",
    "det_result = np.linalg.det(A)\n",
    "mul_result = a*a_mul - b*b_mul + c*c_mul\n",
    "print('3*3 행렬식 계산        :', det_result)\n",
    "print('3개의 2*2 g행렬식 계산 :', mul_result)"
   ]
  },
  {
   "cell_type": "code",
   "execution_count": null,
   "id": "a7c570ee",
   "metadata": {},
   "outputs": [],
   "source": []
  }
 ],
 "metadata": {
  "kernelspec": {
   "display_name": "Python 3 (ipykernel)",
   "language": "python",
   "name": "python3"
  },
  "language_info": {
   "codemirror_mode": {
    "name": "ipython",
    "version": 3
   },
   "file_extension": ".py",
   "mimetype": "text/x-python",
   "name": "python",
   "nbconvert_exporter": "python",
   "pygments_lexer": "ipython3",
   "version": "3.9.12"
  }
 },
 "nbformat": 4,
 "nbformat_minor": 5
}
