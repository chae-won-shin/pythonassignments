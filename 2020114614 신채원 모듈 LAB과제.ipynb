{
 "cells": [
  {
   "cell_type": "code",
   "execution_count": 11,
   "id": "df874ed3",
   "metadata": {},
   "outputs": [
    {
     "name": "stdout",
     "output_type": "stream",
     "text": [
      "오늘의 날짜 : 2022년 10월 13일\n",
      "현재 시간: 오후 3시 12분 30초\n"
     ]
    }
   ],
   "source": [
    "#LAB 7-1\n",
    "from datetime import datetime\n",
    "start_time = datetime.now()\n",
    "\n",
    "print('오늘의 날짜 : {}년 {}월 {}일'.format(start_time.year, start_time.month,\\\n",
    "                                   start_time.day))\n",
    "print('현재 시간: 오후 {}시 {}분 {}초'.format(start_time.hour - 12, \\\n",
    "                                    start_time.minute, start_time.second))\n"
   ]
  },
  {
   "cell_type": "code",
   "execution_count": 20,
   "id": "6eaed6d4",
   "metadata": {},
   "outputs": [
    {
     "name": "stdout",
     "output_type": "stream",
     "text": [
      "1번\n",
      "오늘은 2022년 10월 13일입니다.\n",
      "다음 크리스마스까지는 1168일 8시간 남았습니다.\n",
      "\n",
      "2번\n",
      "오늘은 2022년 10월 13일입니다.\n",
      "2036년 새해까지는 4827일 8시간 남았습니다.\n",
      "\n",
      "3번\n",
      "오늘은 2022년 10월 13일입니다.\n",
      "2023년 생일까지는 182일 8시간 남았습니다.\n",
      "\n",
      "추가문제\n",
      "제 생일은 2001년 4월 14일입니다.\n",
      "10000일 후는 2028년 8월 29일입니다. \n"
     ]
    }
   ],
   "source": [
    "#LAB 7-2\n",
    "#1\n",
    "print('1번')\n",
    "import datetime as dt\n",
    "today = dt.date.today()\n",
    "print('오늘은 {}년 {}월 {}일입니다.'.format(today.year, today.month, today.day))\n",
    "xMas = dt.datetime(2025, 12, 25)\n",
    "time_gap = xMas - dt.datetime.now()\n",
    "print('다음 크리스마스까지는 {}일 {}시간 남았습니다.'.format(\\\n",
    "                                          time_gap.days,time_gap.seconds//3600))\n",
    "\n",
    "#2\n",
    "print('\\n2번')\n",
    "today = dt.date.today()\n",
    "print('오늘은 {}년 {}월 {}일입니다.'.format(today.year, today.month, today.day))\n",
    "newYear = dt.datetime(2036, 1, 1)\n",
    "time_gap = newYear - dt.datetime.now()\n",
    "print('2036년 새해까지는 {}일 {}시간 남았습니다.'.format(\\\n",
    "                                          time_gap.days,time_gap.seconds//3600))\n",
    "\n",
    "#3. \n",
    "print('\\n3번')\n",
    "today = dt.date.today()\n",
    "print('오늘은 {}년 {}월 {}일입니다.'.format(today.year, today.month, today.day))\n",
    "newYear = dt.datetime(2023, 4, 14)\n",
    "time_gap = newYear - dt.datetime.now()\n",
    "print('2023년 생일까지는 {}일 {}시간 남았습니다.'.format(\\\n",
    "                                          time_gap.days,time_gap.seconds//3600))\n",
    "\n",
    "#내가 태어난 지 만 일이 되는 날짜 구하기\n",
    "print('\\n추가문제')\n",
    "birth = dt.datetime(2001, 4, 14)\n",
    "print('제 생일은 {}년 {}월 {}일입니다.'.format(birth.year, birth.month, \\\n",
    "                                     birth.day))\n",
    "tenThousand = dt.timedelta(days = 9999)\n",
    "plus = birth + tenThousand\n",
    "print('10000일 후는 {}년 {}월 {}일입니다. '.format(plus.year, plus.month, \\\n",
    "                                          plus.day))"
   ]
  },
  {
   "cell_type": "code",
   "execution_count": 21,
   "id": "681dd012",
   "metadata": {},
   "outputs": [
    {
     "name": "stdout",
     "output_type": "stream",
     "text": [
      "1번\n",
      "오늘은 2022년 10월 13일입니다.\n",
      "1000일 후의 날짜는 2025년 7월 8일입니다.\n",
      "\n",
      "2번\n",
      "처음으로 사귄 연도와 월, 일을 입력하시오: 2019 3 30\n",
      "100일 기념일은 : 2019년 7월 7일입니다.\n"
     ]
    }
   ],
   "source": [
    "#LAB 7-3.\n",
    "#1. \n",
    "print('1번')\n",
    "today = dt.datetime.now()\n",
    "print('오늘은 {}년 {}월 {}일입니다.'.format(today.year, today.month, today.day))\n",
    "thousand = dt.timedelta(days = 999)  #기준일 포함\n",
    "plus = today + thousand\n",
    "print('1000일 후의 날짜는 {}년 {}월 {}일입니다.'.format(plus.year, plus.month,\\\n",
    "                                           plus.day))\n",
    "\n",
    "#2.\n",
    "print('\\n2번')\n",
    "myYear, myMonth, myDay = map(int,\\\n",
    "                           input('처음으로 사귄 연도와 월, 일을 입력하시오: ').\\\n",
    "                      split())\n",
    "couple_day = dt.datetime(myYear, myMonth, myDay)\n",
    "hundred = dt.timedelta(days = 99)  #기준일 포함해야 하기 때문\n",
    "plus = couple_day + hundred \n",
    "print('100일 기념일은 : {}년 {}월 {}일입니다.'.format(plus.year, plus.month, \\\n",
    "                                          plus.day))"
   ]
  },
  {
   "cell_type": "code",
   "execution_count": 22,
   "id": "5ec261be",
   "metadata": {
    "scrolled": true
   },
   "outputs": [
    {
     "name": "stdout",
     "output_type": "stream",
     "text": [
      "55\n",
      "1에서 10까지의 합을 구하고 출력하는 시간: 0.0080초\n"
     ]
    }
   ],
   "source": [
    "import time\n",
    "start_time = time.time()\n",
    "print(1+2+3+4+5+6+7+8+9+10)\n",
    "\n",
    "end_time = time.time()\n",
    "gap = end_time - start_time\n",
    "print('1에서 10까지의 합을 구하고 출력하는 시간:{:7.4f}초'.format(gap))"
   ]
  },
  {
   "cell_type": "code",
   "execution_count": 25,
   "id": "ec1f1988",
   "metadata": {},
   "outputs": [
    {
     "name": "stdout",
     "output_type": "stream",
     "text": [
      "1번\n",
      "4** 2 =      16.0\n",
      "4** 3 =      64.0\n",
      "4** 4 =     256.0\n",
      "4** 5 =    1024.0\n",
      "4** 6 =    4096.0\n",
      "4** 7 =   16384.0\n",
      "4** 8 =   65536.0\n",
      "4** 9 =  262144.0\n",
      "4**10 = 1048576.0\n",
      "\n",
      "2번\n",
      "  0 degree = 0.000 radian\n",
      " 10 degree = 0.175 radian\n",
      " 20 degree = 0.349 radian\n",
      " 30 degree = 0.524 radian\n",
      " 40 degree = 0.698 radian\n",
      " 50 degree = 0.873 radian\n",
      " 60 degree = 1.047 radian\n",
      " 70 degree = 1.222 radian\n",
      " 80 degree = 1.396 radian\n",
      " 90 degree = 1.571 radian\n",
      "100 degree = 1.745 radian\n",
      "110 degree = 1.920 radian\n",
      "120 degree = 2.094 radian\n",
      "130 degree = 2.269 radian\n",
      "140 degree = 2.443 radian\n",
      "150 degree = 2.618 radian\n",
      "160 degree = 2.793 radian\n",
      "170 degree = 2.967 radian\n",
      "180 degree = 3.142 radian\n",
      "\n",
      "3번\n",
      "sin(   0) = 0.00\n",
      "sin(  10) = 0.17\n",
      "sin(  20) = 0.34\n",
      "sin(  30) = 0.50\n",
      "sin(  40) = 0.64\n",
      "sin(  50) = 0.77\n",
      "sin(  60) = 0.87\n",
      "sin(  70) = 0.94\n",
      "sin(  80) = 0.98\n",
      "sin(  90) = 1.00\n",
      "sin( 100) = 0.98\n",
      "sin( 110) = 0.94\n",
      "sin( 120) = 0.87\n",
      "sin( 130) = 0.77\n",
      "sin( 140) = 0.64\n",
      "sin( 150) = 0.50\n",
      "sin( 160) = 0.34\n",
      "sin( 170) = 0.17\n",
      "sin( 180) = 0.00\n"
     ]
    }
   ],
   "source": [
    "#LAB 7-4\n",
    "#1. \n",
    "import math as m\n",
    "print('1번')\n",
    "for i in range(2,11):\n",
    "    result = m.pow(4,i)\n",
    "    print('4**{:2d} = {:9.1f}'.format(i,result))\n",
    "    \n",
    "#2.\n",
    "print('\\n2번')\n",
    "for i in range(0,181,10):\n",
    "    print('{:3d} degree = {:1.3f} radian'.format(i, m.radians(i)))\n",
    "    \n",
    "#3.\n",
    "print('\\n3번')\n",
    "for i in range(0,181,10):\n",
    "    temp = m.radians(i)\n",
    "    print('sin({:4d}) = {:.2f}'.format(i, m.sin(temp)))\n",
    "    "
   ]
  },
  {
   "cell_type": "code",
   "execution_count": 12,
   "id": "b61570fd",
   "metadata": {},
   "outputs": [
    {
     "name": "stdout",
     "output_type": "stream",
     "text": [
      "0.9644597885863606\n",
      "0.48496855138431505\n"
     ]
    }
   ],
   "source": [
    "import random as rd\n",
    "print(rd.random())\n",
    "print(rd.random())"
   ]
  },
  {
   "cell_type": "code",
   "execution_count": 34,
   "id": "6d8fa1b5",
   "metadata": {},
   "outputs": [
    {
     "name": "stdout",
     "output_type": "stream",
     "text": [
      "1 6 dice2 win\n"
     ]
    }
   ],
   "source": [
    "def dice():\n",
    "    return rd.randrange(1,7)\n",
    "\n",
    "while True:\n",
    "    dice1 = dice()\n",
    "    dice2 = dice()\n",
    "    if(dice1 == dice2):\n",
    "        print(dice1, dice2, 'end')\n",
    "    elif(dice1>dice2):\n",
    "        print(dice1, dice2, 'dice1 win')\n",
    "        break\n",
    "    else:\n",
    "        print(dice1, dice2, 'dice2 win')\n",
    "        break"
   ]
  },
  {
   "cell_type": "code",
   "execution_count": 46,
   "id": "e434d860",
   "metadata": {},
   "outputs": [
    {
     "name": "stdout",
     "output_type": "stream",
     "text": [
      "1번\n",
      "0에서 100 이하의 정수 중에서 5의 배수\n",
      "[90, 0, 50]\n",
      "\n",
      "2번\n",
      "1에서 10 사이의 임의의 정수: [3, 1, 8]\n"
     ]
    }
   ],
   "source": [
    "#LAB 7-5\n",
    "#1.\n",
    "print('1번')\n",
    "list1 = []\n",
    "for i in range(3):\n",
    "    list1.append(rd.randrange(0,101,5))\n",
    "print('0에서 100 이하의 정수 중에서 5의 배수')\n",
    "print(list1)\n",
    "\n",
    "#2.\n",
    "print('\\n2번')\n",
    "list2 = list(range(0,11))\n",
    "rd.shuffle(list2)\n",
    "print('1에서 10 사이의 임의의 정수:', rd.sample(list2, 3))"
   ]
  },
  {
   "cell_type": "code",
   "execution_count": 27,
   "id": "b2002232",
   "metadata": {},
   "outputs": [
    {
     "name": "stdout",
     "output_type": "stream",
     "text": [
      "이번 주의 추천 로또번호: [10, 13, 18, 22, 25, 29]\n",
      "\n",
      "sample 함수를 써서 푸는 방법\n",
      "이번 주의 추천 로또 번호: [3, 37, 35, 41, 39, 28]\n"
     ]
    }
   ],
   "source": [
    "#로또번호 만들기\n",
    "lotto = list(range(1,46))\n",
    "rd.shuffle(lotto)\n",
    "list3 = []\n",
    "for i in range(6):\n",
    "    list3.append(lotto[i])\n",
    "#lotto = lotto[:6]\n",
    "#lotto = rd.sample(lotto, 6)\n",
    "list3.sort()\n",
    "print('이번 주의 추천 로또번호:', list3)\n",
    "\n",
    "#sample 함수를 써서 푸는 방법\n",
    "print('\\nsample 함수를 써서 푸는 방법')\n",
    "lotto2 = list(range(1,46))\n",
    "select = rd.sample(lotto2, 6)\n",
    "sorted(select)\n",
    "print('이번 주의 추천 로또 번호:', select)"
   ]
  },
  {
   "cell_type": "code",
   "execution_count": 30,
   "id": "1481accc",
   "metadata": {},
   "outputs": [
    {
     "name": "stdout",
     "output_type": "stream",
     "text": [
      "1번\n",
      "이번 주의 추천 로또번호\n",
      "[17, 23, 28, 45, 6, 10]\n",
      "[27, 26, 15, 30, 41, 38]\n",
      "[27, 45, 9, 36, 20, 2]\n",
      "[26, 36, 38, 6, 20, 2]\n",
      "[34, 8, 26, 23, 33, 17]\n",
      "2번\n",
      "이번 주의 당첨 로또번호 + 보너스\n",
      "[22, 10, 29, 13, 18, 25] + [25]\n"
     ]
    }
   ],
   "source": [
    "#7-6\n",
    "#1.\n",
    "print('1번')\n",
    "lotto3 = list(range(1,46))\n",
    "print('이번 주의 추천 로또번호')\n",
    "for _ in range(5):\n",
    "    select2 = rd.sample(lotto3, 6)\n",
    "    sorted(select2)\n",
    "    print(select2)\n",
    "    \n",
    "#2.\n",
    "print('2번')\n",
    "print('이번 주의 당첨 로또번호 + 보너스')\n",
    "select3 = rd.sample(list3, 6)\n",
    "bonus = rd.sample(list3,1)\n",
    "print(select3, '+', bonus)"
   ]
  },
  {
   "cell_type": "code",
   "execution_count": 56,
   "id": "5640bc2e",
   "metadata": {},
   "outputs": [
    {
     "name": "stdout",
     "output_type": "stream",
     "text": [
      "변형 전: [1, 2, 3, 7, 8, 9]\n",
      "변형 후: [1, 2, 3, 4, 5, 6, 7, 8, 9]\n"
     ]
    }
   ],
   "source": [
    "list4 = [1,2,3,7,8,9]\n",
    "print('변형 전:', list4)\n",
    "for i in range(4,7):\n",
    "    list4.append(i)\n",
    "list4.sort()\n",
    "print('변형 후:',list4)"
   ]
  },
  {
   "cell_type": "code",
   "execution_count": 60,
   "id": "dfa99e0d",
   "metadata": {},
   "outputs": [
    {
     "name": "stdout",
     "output_type": "stream",
     "text": [
      "4613732\n"
     ]
    }
   ],
   "source": [
    "def fib(n):\n",
    "    if n<=1:\n",
    "        return n\n",
    "    else:\n",
    "        return(fib(n-1)+fib(n-2))\n",
    "    \n",
    "i = 0\n",
    "s = 0\n",
    "while fib(i) <= 4000000:\n",
    "    if (fib(i)%2 == 0): s += fib(i)\n",
    "    i += 1\n",
    "    \n",
    "print(s)"
   ]
  },
  {
   "cell_type": "code",
   "execution_count": null,
   "id": "ea4a7b22",
   "metadata": {},
   "outputs": [],
   "source": []
  }
 ],
 "metadata": {
  "kernelspec": {
   "display_name": "Python 3 (ipykernel)",
   "language": "python",
   "name": "python3"
  },
  "language_info": {
   "codemirror_mode": {
    "name": "ipython",
    "version": 3
   },
   "file_extension": ".py",
   "mimetype": "text/x-python",
   "name": "python",
   "nbconvert_exporter": "python",
   "pygments_lexer": "ipython3",
   "version": "3.9.12"
  }
 },
 "nbformat": 4,
 "nbformat_minor": 5
}
