{
 "cells": [
  {
   "cell_type": "code",
   "execution_count": 1,
   "id": "ccadd481",
   "metadata": {},
   "outputs": [
    {
     "name": "stdout",
     "output_type": "stream",
     "text": [
      "[[ 1  2  3  4]\n",
      " [ 5  6  7  8]\n",
      " [ 9 10 11 12]\n",
      " [13 14 15 16]]\n"
     ]
    }
   ],
   "source": [
    "#11.5\n",
    "import numpy as np\n",
    "\n",
    "a = np.arange(1,17).reshape(4,4)\n",
    "print(a)"
   ]
  },
  {
   "cell_type": "code",
   "execution_count": 5,
   "id": "40b9d95c",
   "metadata": {},
   "outputs": [
    {
     "name": "stdout",
     "output_type": "stream",
     "text": [
      "a =  [0.77782806 0.02852639 0.37562387 0.86916414 0.90993845 0.79199506\n",
      " 0.82930557 0.06563475 0.03333911 0.52490955]\n",
      "최댓값 :  0.9099384478232887\n",
      "최솟값 :  0.028526386810335924\n",
      "평균값 :  0.5206264937739713\n"
     ]
    }
   ],
   "source": [
    "#11.6\n",
    "\n",
    "a = np.random.random(size = 10)\n",
    "print('a = ', a)\n",
    "print('최댓값 : ', np.max(a))\n",
    "print('최솟값 : ', np.min(a))\n",
    "print('평균값 : ', np.mean(a))"
   ]
  },
  {
   "cell_type": "code",
   "execution_count": 25,
   "id": "78ca93cf",
   "metadata": {},
   "outputs": [
    {
     "name": "stdout",
     "output_type": "stream",
     "text": [
      "n을 입력하시오 : 5\n",
      "[[1 0 1 0 1]\n",
      " [0 1 0 1 0]\n",
      " [1 0 1 0 1]\n",
      " [0 1 0 1 0]\n",
      " [1 0 1 0 1]]\n"
     ]
    }
   ],
   "source": [
    "#11.7\n",
    "\n",
    "n = int(input('n을 입력하시오 : '))\n",
    "ary = np.zeros((n,n), dtype = np.int32)\n",
    "ary[::2, ::2] = 1\n",
    "ary[1::2, 1::2] = 1\n",
    "print(ary)"
   ]
  },
  {
   "cell_type": "code",
   "execution_count": 24,
   "id": "dfde7ab5",
   "metadata": {},
   "outputs": [
    {
     "name": "stdout",
     "output_type": "stream",
     "text": [
      "n을 입력하시오 : 6\n",
      "[[1 0 0 0 0 0]\n",
      " [0 2 0 0 0 0]\n",
      " [0 0 3 0 0 0]\n",
      " [0 0 0 4 0 0]\n",
      " [0 0 0 0 5 0]\n",
      " [0 0 0 0 0 6]]\n"
     ]
    }
   ],
   "source": [
    "#11.8\n",
    "\n",
    "n = int(input('n을 입력하시오 : '))\n",
    "ary = np.zeros((n,n), dtype = 'int32')\n",
    "for i in range(n):\n",
    "    ary[i, i] = i+1\n",
    "print(ary)"
   ]
  },
  {
   "cell_type": "code",
   "execution_count": 29,
   "id": "2623526f",
   "metadata": {},
   "outputs": [
    {
     "name": "stdout",
     "output_type": "stream",
     "text": [
      "n을 입력하시오 : 5\n",
      "a 행렬\n",
      "[[1 1 1 1 1]\n",
      " [1 1 1 1 1]\n",
      " [1 1 1 1 1]\n",
      " [1 1 1 1 1]\n",
      " [1 1 1 1 1]]\n",
      "b 행렬\n",
      "[[1 1 1 1 1]\n",
      " [1 0 0 0 1]\n",
      " [1 0 0 0 1]\n",
      " [1 0 0 0 1]\n",
      " [1 1 1 1 1]]\n"
     ]
    }
   ],
   "source": [
    "#11.9\n",
    "\n",
    "n = int(input('n을 입력하시오 : '))\n",
    "a = np.ones((n,n), dtype = 'int32')\n",
    "print('a 행렬')\n",
    "print(a)\n",
    "b = a\n",
    "b[1:-1, 1:-1] = 0\n",
    "print('b 행렬')\n",
    "print(b)"
   ]
  },
  {
   "cell_type": "code",
   "execution_count": 31,
   "id": "c261ba6c",
   "metadata": {},
   "outputs": [
    {
     "name": "stdout",
     "output_type": "stream",
     "text": [
      "n을 입력하시오 : 5\n",
      "a 행렬\n",
      "[[1 1 1 1 1]\n",
      " [1 1 1 1 1]\n",
      " [1 1 1 1 1]\n",
      " [1 1 1 1 1]\n",
      " [1 1 1 1 1]]\n",
      "c 행렬\n",
      "[[0 0 0 0 0]\n",
      " [0 1 1 1 0]\n",
      " [0 1 1 1 0]\n",
      " [0 1 1 1 0]\n",
      " [0 0 0 0 0]]\n"
     ]
    }
   ],
   "source": [
    "#11.10\n",
    "\n",
    "n = int(input('n을 입력하시오 : '))\n",
    "a = np.ones((n,n), dtype = np.int32)\n",
    "print('a 행렬')\n",
    "print(a)\n",
    "c = a\n",
    "c[0] = 0\n",
    "c[-1] = 0\n",
    "c[:, 0] = 0\n",
    "c[:, -1] = 0\n",
    "print('c 행렬')\n",
    "print(c)"
   ]
  },
  {
   "cell_type": "code",
   "execution_count": 47,
   "id": "4ba4c486",
   "metadata": {},
   "outputs": [
    {
     "name": "stdout",
     "output_type": "stream",
     "text": [
      "a 배열 :  [ 0 10 20 40 60 80]\n",
      "b 배열 :  [ 0 20]\n",
      "[True, False, True, False, False, False]\n"
     ]
    }
   ],
   "source": [
    "#11.11\n",
    "\n",
    "a = np.array([0,10,20,40,60,80])\n",
    "b = np.array([0, 20])\n",
    "bool_list = []\n",
    "flag = False\n",
    "for i in range(a.size):\n",
    "    for j in range(b.size):\n",
    "        if a[i] == b[j]:\n",
    "            bool_list.append(True)\n",
    "            flag = True\n",
    "            break\n",
    "        else:\n",
    "            flag = False\n",
    "            continue\n",
    "    if flag == False:\n",
    "        bool_list.append(False)\n",
    "    \n",
    "print('a 배열 : ', a)\n",
    "print('b 배열 : ', b)\n",
    "print(bool_list)"
   ]
  },
  {
   "cell_type": "code",
   "execution_count": 79,
   "id": "45d0852f",
   "metadata": {},
   "outputs": [
    {
     "name": "stdout",
     "output_type": "stream",
     "text": [
      "10 : 2번\n",
      "20 : 2번\n",
      "40 : 3번\n",
      "60 : 1번\n",
      "\n",
      "40 : 4번\n",
      "60 : 1번\n",
      "80 : 2번\n",
      "120 : 2번\n"
     ]
    }
   ],
   "source": [
    "#11.12\n",
    "\n",
    "x = np.array([[10,20,40,60], [10,20,40,40]])\n",
    "num_list = []\n",
    "rows, cols = x.shape\n",
    "for i in range(rows):\n",
    "    for j in range(cols):\n",
    "        if x[i,j] in num_list:\n",
    "            continue\n",
    "        else:\n",
    "            num_list.append(x[i,j])\n",
    "num_list.sort()\n",
    "for element in num_list:\n",
    "    temp = sum(x==element)\n",
    "    count = sum(temp)\n",
    "    print('{} : {}번'.format(element, count))\n",
    "print()\n",
    "    \n",
    "x = np.array([[80, 120,40], [60,80,120], [40,40,40]])\n",
    "num_list = []\n",
    "rows, cols = x.shape\n",
    "for i in range(rows):\n",
    "    for j in range(cols):\n",
    "        if x[i,j] in num_list:\n",
    "            continue\n",
    "        else:\n",
    "            num_list.append(x[i,j])\n",
    "num_list.sort()\n",
    "for element in num_list:\n",
    "    temp = sum(x==element)\n",
    "    count = sum(temp)\n",
    "    print('{} : {}번'.format(element, count))"
   ]
  },
  {
   "cell_type": "code",
   "execution_count": 89,
   "id": "398d4b1e",
   "metadata": {},
   "outputs": [
    {
     "name": "stdout",
     "output_type": "stream",
     "text": [
      "n을 입력하시오 : 6\n",
      "[[1. 0. 0. 0. 0. 1.]\n",
      " [0. 1. 0. 0. 1. 0.]\n",
      " [0. 0. 1. 1. 0. 0.]\n",
      " [0. 0. 1. 1. 0. 0.]\n",
      " [0. 1. 0. 0. 1. 0.]\n",
      " [1. 0. 0. 0. 0. 1.]]\n"
     ]
    }
   ],
   "source": [
    "#11.14\n",
    "n = int(input('n을 입력하시오 : '))\n",
    "ary = np.eye(n)\n",
    "for i in range(n):\n",
    "    ary[-1-i, i] = 1\n",
    "print(ary)"
   ]
  },
  {
   "cell_type": "code",
   "execution_count": 95,
   "id": "e8717036",
   "metadata": {},
   "outputs": [
    {
     "name": "stdout",
     "output_type": "stream",
     "text": [
      "n을 입력하시오 : 5\n",
      "[[1. 0. 0. 0. 0.]\n",
      " [1. 1. 0. 0. 0.]\n",
      " [1. 1. 1. 0. 0.]\n",
      " [1. 1. 1. 1. 0.]\n",
      " [1. 1. 1. 1. 1.]]\n",
      "\n",
      "행렬의 모든 원소의 합: 15.0\n",
      "\n",
      "행렬의 행 방향 성분의 합:  [5. 4. 3. 2. 1.]\n",
      "\n",
      "행렬의 행 방향 성분의 합:  [1. 2. 3. 4. 5.]\n"
     ]
    }
   ],
   "source": [
    "#11.15\n",
    "n = int(input('n을 입력하시오 : '))\n",
    "ary = np.zeros((n,n))\n",
    "for i in range(n):\n",
    "    ary[i, :i+1] = 1\n",
    "print(ary)\n",
    "\n",
    "count = np.sum(ary)\n",
    "print('\\n행렬의 모든 원소의 합:', count)\n",
    "\n",
    "r_count = np.sum(ary, axis = 0)\n",
    "print('\\n행렬의 행 방향 성분의 합: ', r_count)\n",
    "\n",
    "c_count = np.sum(ary, axis = 1)\n",
    "print('\\n행렬의 행 방향 성분의 합: ', c_count)"
   ]
  },
  {
   "cell_type": "code",
   "execution_count": 100,
   "id": "e1913aba",
   "metadata": {},
   "outputs": [
    {
     "name": "stdout",
     "output_type": "stream",
     "text": [
      "배열 b\n",
      "[[1 1 1]\n",
      " [1 2 1]\n",
      " [1 1 1]] \n",
      "\n",
      "배열 c\n",
      "[[0 0 0]\n",
      " [0 1 1]\n",
      " [0 1 2]] \n",
      "\n",
      "배열 d\n",
      "[[0 0 0]\n",
      " [1 1 1]\n",
      " [1 2 1]] \n",
      "\n",
      "배열 e\n",
      "[[1 1 0]\n",
      " [2 1 0]\n",
      " [1 1 0]] \n",
      "\n",
      "배열 f\n",
      "[0 1 2 1 0] \n",
      "\n"
     ]
    }
   ],
   "source": [
    "#11.17\n",
    "a = np.array([[0,0,0,0,0], [0,1,1,1,0], [0,1,2,1,0], [0,1,1,1,0], [0,0,0,0,0]])\n",
    "b = a[1:4, 1:4]\n",
    "print('배열 b')\n",
    "print(b, '\\n')\n",
    "c= a[:3, :3]\n",
    "print('배열 c')\n",
    "print(c, '\\n')\n",
    "d = a[:3, 1:4]\n",
    "print('배열 d')\n",
    "print(d, '\\n')\n",
    "e = a[1:4, 2:]\n",
    "print('배열 e')\n",
    "print(e, '\\n')\n",
    "f = a[2]\n",
    "print('배열 f')\n",
    "print(f, '\\n')"
   ]
  },
  {
   "cell_type": "code",
   "execution_count": null,
   "id": "626f698d",
   "metadata": {},
   "outputs": [],
   "source": []
  }
 ],
 "metadata": {
  "kernelspec": {
   "display_name": "Python 3 (ipykernel)",
   "language": "python",
   "name": "python3"
  },
  "language_info": {
   "codemirror_mode": {
    "name": "ipython",
    "version": 3
   },
   "file_extension": ".py",
   "mimetype": "text/x-python",
   "name": "python",
   "nbconvert_exporter": "python",
   "pygments_lexer": "ipython3",
   "version": "3.9.12"
  }
 },
 "nbformat": 4,
 "nbformat_minor": 5
}
