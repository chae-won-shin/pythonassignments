{
 "cells": [
  {
   "cell_type": "code",
   "execution_count": 2,
   "id": "d28cd06a",
   "metadata": {},
   "outputs": [
    {
     "name": "stdout",
     "output_type": "stream",
     "text": [
      "ERROR :: [Errno 13] Permission denied: 'greet.txt'\n"
     ]
    }
   ],
   "source": [
    "#1번\n",
    "try:\n",
    "    f = open('greet.txt', 'w')\n",
    "    f.write('Hi, everyone.\\n')\n",
    "    f.write('Welcome to Python.\\n')\n",
    "except Exception as e:\n",
    "    print('ERROR ::', e)"
   ]
  },
  {
   "cell_type": "code",
   "execution_count": 3,
   "id": "7f421887",
   "metadata": {},
   "outputs": [
    {
     "name": "stdout",
     "output_type": "stream",
     "text": [
      "1:10\n",
      "2:20\n",
      "3:30\n",
      "4:40\n",
      "5:50\n",
      "6:60\n",
      "7:70\n",
      "8:80\n",
      "9:90\n",
      "10:100\n"
     ]
    }
   ],
   "source": [
    "#2번\n",
    "f1 = open('number1to10.txt', 'r')\n",
    "f2 = open('numberby10.txt', 'w')\n",
    "\n",
    "numlist = f1.readlines()\n",
    "numlist = list(map(int, numlist))\n",
    "\n",
    "for i in numlist:\n",
    "    j = i * 10\n",
    "    f2.write(str(j))\n",
    "    f2.write('\\n')\n",
    "    \n",
    "f1.close()\n",
    "f2.close()\n",
    "\n",
    "f3 = open('number1to10.txt', 'r')\n",
    "f4 = open('numberby10.txt', 'r')\n",
    "f5 = open('merge.txt', 'w')\n",
    "\n",
    "numlist2 = f3.readlines()\n",
    "numlist2 = list(map(int, numlist2))\n",
    "numlist3 = f4.readlines()\n",
    "numlist3 = list(map(int, numlist3))\n",
    "\n",
    "for i in numlist2:\n",
    "    j = str(numlist3[i-1])\n",
    "    f5.write(str(i))\n",
    "    f5.write(':')\n",
    "    f5.write(j)\n",
    "    f5.write('\\n')\n",
    "\n",
    "f3.close()\n",
    "f4.close()\n",
    "f5.close()\n",
    "\n",
    "f6 = open('merge.txt', 'r')\n",
    "\n",
    "temp = f6.readlines()\n",
    "for i in temp:\n",
    "    print(i, end = '')\n",
    "    \n",
    "f6.close()"
   ]
  },
  {
   "cell_type": "code",
   "execution_count": 5,
   "id": "a1f8758f",
   "metadata": {},
   "outputs": [
    {
     "name": "stdout",
     "output_type": "stream",
     "text": [
      "[Errno 13] Permission denied: 'my_hello.txt'\n"
     ]
    }
   ],
   "source": [
    "#3번\n",
    "try:\n",
    "    f = open('my_hello.txt', 'w')\n",
    "except Exception as e:\n",
    "    print(e)"
   ]
  },
  {
   "cell_type": "code",
   "execution_count": 6,
   "id": "296ccbdc",
   "metadata": {},
   "outputs": [
    {
     "name": "stdout",
     "output_type": "stream",
     "text": [
      "(1)번\n",
      "hello.txt.파일: \n",
      "Hello.\n",
      "Hi, there.\n",
      "\n",
      "(2)번\n",
      "hello.txt 파일 :\n",
      "Hello.\n",
      "Hi, there.\n",
      "Welcome to Python!\n"
     ]
    }
   ],
   "source": [
    "#4번\n",
    "f = open('hello.txt', 'w')\n",
    "f.write('Hello.\\n')\n",
    "f.write('Hi, there.\\n')\n",
    "f.close()\n",
    "\n",
    "print('(1)번')\n",
    "f = open('hello.txt', 'r')\n",
    "temp = f.read()\n",
    "print('hello.txt.파일: ')\n",
    "print(temp, end = '')\n",
    "f.close()\n",
    "\n",
    "print('\\n(2)번')\n",
    "f = open('hello.txt', 'a')\n",
    "f.write('Welcome to Python!')\n",
    "f.close()\n",
    "\n",
    "f = open('hello.txt', 'r')\n",
    "temp = f.read()\n",
    "print('hello.txt 파일 :')\n",
    "print(temp)"
   ]
  },
  {
   "cell_type": "code",
   "execution_count": 7,
   "id": "ce7aafa4",
   "metadata": {},
   "outputs": [
    {
     "name": "stdout",
     "output_type": "stream",
     "text": [
      "numlist : [7, 5, 6, 3, 6, 2, 4, 4, 3, 7, 2, 4, 4, 9, 4, 6, 7, 3, 9, 8, 8, 5, 8, 7, 4, 1, 8, 9, 1, 3]\n",
      "1 :  2 개\n",
      "2 :  2 개\n",
      "3 :  4 개\n",
      "4 :  6 개\n",
      "5 :  2 개\n",
      "6 :  3 개\n",
      "7 :  4 개\n",
      "8 :  4 개\n",
      "9 :  3  개\n",
      "10 :  0 개\n"
     ]
    }
   ],
   "source": [
    "#5번\n",
    "import random as rd\n",
    "f = open('randint30.txt', 'w')\n",
    "for _ in range(30):\n",
    "    temp = rd.randrange(1,10)\n",
    "    f.write(str(temp))\n",
    "    f.write(' ')\n",
    "f.close()\n",
    "\n",
    "f = open('randint30.txt', 'r')\n",
    "\n",
    "numlist = f.read().replace(' ','')\n",
    "numlist = list(map(int, numlist))\n",
    "\n",
    "cnt1 = cnt2 = cnt3 = cnt4 = cnt5 = cnt6 = cnt7 = cnt8 = cnt9 = cnt10 = 0\n",
    "for i in numlist:\n",
    "    if i == 1: cnt1 += 1\n",
    "    elif i == 2: cnt2 += 1\n",
    "    elif i == 3: cnt3 += 1\n",
    "    elif i == 4: cnt4 += 1\n",
    "    elif i == 5: cnt5 += 1\n",
    "    elif i == 6: cnt6 += 1\n",
    "    elif i == 7: cnt7 += 1\n",
    "    elif i == 8: cnt8 += 1\n",
    "    elif i == 9: cnt9 += 1\n",
    "    else: cnt10 += 1\n",
    "\n",
    "print('numlist :', numlist)\n",
    "print('1 : ', cnt1, '개')\n",
    "print('2 : ', cnt2, '개')\n",
    "print('3 : ', cnt3, '개')\n",
    "print('4 : ', cnt4, '개')\n",
    "print('5 : ', cnt5, '개')\n",
    "print('6 : ', cnt6, '개')\n",
    "print('7 : ', cnt7, '개')\n",
    "print('8 : ', cnt8, '개')\n",
    "print('9 : ', cnt9,' 개')\n",
    "print('10 : ', cnt10, '개')"
   ]
  },
  {
   "cell_type": "code",
   "execution_count": null,
   "id": "0da383e7",
   "metadata": {},
   "outputs": [],
   "source": []
  }
 ],
 "metadata": {
  "kernelspec": {
   "display_name": "Python 3 (ipykernel)",
   "language": "python",
   "name": "python3"
  },
  "language_info": {
   "codemirror_mode": {
    "name": "ipython",
    "version": 3
   },
   "file_extension": ".py",
   "mimetype": "text/x-python",
   "name": "python",
   "nbconvert_exporter": "python",
   "pygments_lexer": "ipython3",
   "version": "3.9.12"
  }
 },
 "nbformat": 4,
 "nbformat_minor": 5
}
