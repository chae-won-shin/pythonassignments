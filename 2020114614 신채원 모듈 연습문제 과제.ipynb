{
 "cells": [
  {
   "cell_type": "code",
   "execution_count": 10,
   "id": "b6e9be7d",
   "metadata": {},
   "outputs": [
    {
     "name": "stdout",
     "output_type": "stream",
     "text": [
      "1번\n",
      "춘향이와 몽룡이의 연애 시작일 : 2019년 2월 24일\n",
      "연애 시작일로부터 경과한 날짜 : 1333 일\n",
      "\n",
      "2번\n",
      "춘향이와 몽룡이의 연애 시작일 : 2019년 2월 24일\n",
      "100일 기념일 : 2019년 6월 4일\n",
      "200일 기념일 : 2019년 9월 12일\n",
      "500일 기념일 : 2020년 7월 8일\n",
      "1000일 기념일 : 2021년 11월 20일\n"
     ]
    }
   ],
   "source": [
    "#7.1\n",
    "#1.\n",
    "print('1번')\n",
    "import datetime as dt\n",
    "start_time = dt.date(2019, 2, 24)\n",
    "gap = dt.date.today() - start_time\n",
    "print('춘향이와 몽룡이의 연애 시작일 : {}년 {}월 {}일'.format(start_time.year, start_time.month, start_time.day))\n",
    "print('연애 시작일로부터 경과한 날짜 :', gap.days,'일')\n",
    "\n",
    "#2.\n",
    "print('\\n2번')\n",
    "print('춘향이와 몽룡이의 연애 시작일 : {}년 {}월 {}일'.format(start_time.year, start_time.month, start_time.day))\n",
    "hun = dt.timedelta(days=100)\n",
    "thun = dt.timedelta(days=200)\n",
    "fhun = dt.timedelta(days=500)\n",
    "thou = dt.timedelta(days=1000)\n",
    "plus100 = start_time + hun\n",
    "plus200 = start_time + thun\n",
    "plus500 = start_time + fhun\n",
    "plus1000 = start_time + thou\n",
    "print('100일 기념일 : {}년 {}월 {}일'.format(plus100.year, plus100.month, plus100.day))\n",
    "print('200일 기념일 : {}년 {}월 {}일'.format(plus200.year, plus200.month, plus200.day))\n",
    "print('500일 기념일 : {}년 {}월 {}일'.format(plus500.year, plus500.month, plus500.day))\n",
    "print('1000일 기념일 : {}년 {}월 {}일'.format(plus1000.year, plus1000.month, plus1000.day))\n"
   ]
  },
  {
   "cell_type": "code",
   "execution_count": 21,
   "id": "baf1ace5",
   "metadata": {},
   "outputs": [
    {
     "name": "stdout",
     "output_type": "stream",
     "text": [
      "1번\n",
      "1에서 1,000,000까지의 합을 구하는 시간 : 0.0254초\n",
      "\n",
      "2번\n",
      "1에서 1,000,000까지의 합을 100번 반복해서 구하는 시간 : 2.2376초\n"
     ]
    }
   ],
   "source": [
    "import time\n",
    "#7-2\n",
    "#1번\n",
    "print('1번')\n",
    "start_time = time.time()\n",
    "sum(range(1,1000001))\n",
    "end_time = time.time()\n",
    "gap = end_time - start_time\n",
    "print('1에서 1,000,000까지의 합을 구하는 시간 : {:.4f}초'.format(gap))\n",
    "\n",
    "#2.\n",
    "print('\\n2번')\n",
    "start_time = time.time()\n",
    "for _ in range(100):\n",
    "    sum(range(1,1000001))\n",
    "end_time = time.time()\n",
    "gap = end_time - start_time\n",
    "print('1에서 1,000,000까지의 합을 100번 반복해서 구하는 시간 : {:.4f}초'.format(gap))"
   ]
  },
  {
   "cell_type": "code",
   "execution_count": 9,
   "id": "a788ec97",
   "metadata": {},
   "outputs": [
    {
     "name": "stdout",
     "output_type": "stream",
     "text": [
      "1번\n",
      "1에서 1,000,000까지의 합을 100번 반복해서 구하는 시간 : 3.5090초\n",
      "\n",
      "2번\n",
      "1000!을 100번 반복해서 구하는 시간 : 0.0031초\n",
      "\n",
      "3번\n",
      "1에서 1000까지 홀수의 세제곱 더하기 결과 :  124999750000\n",
      "1에서 1000까지 홀수의 세제곱 더하기를 100번 반복하는 시간 : 0.0175초\n",
      "\n",
      "4번\n",
      "1에서 360도까지 sin 값의 합 :  5.6739471402033955e-15\n",
      "1에서 360도까지 sin 값의 합을 100번 반복하는 시간 : 0.0040초\n"
     ]
    }
   ],
   "source": [
    "#7-3\n",
    "#1.\n",
    "import time\n",
    "import math as m\n",
    "\n",
    "def get_sum(n):\n",
    "    getsum = 0\n",
    "    for i in range(n):\n",
    "        getsum += i\n",
    "def fact(n):\n",
    "    result = 1\n",
    "    for i in range(n):\n",
    "        result *= i  \n",
    "def pow3(n):\n",
    "    sum1 = 0\n",
    "    for i in range(1,n+1):\n",
    "        temp = 0\n",
    "        if(i%2 == 1): \n",
    "            temp = i**3\n",
    "            sum1 += temp\n",
    "    return sum1\n",
    "def getsin():\n",
    "    sum2 = 0\n",
    "    for i in range(1, 361):\n",
    "        temp = m.radians(i)\n",
    "        sum2 += m.sin(temp)\n",
    "    return sum2\n",
    "        \n",
    "print('1번')\n",
    "start_time = time.time()\n",
    "for _ in range(100):\n",
    "    get_sum(1000000)\n",
    "end_time = time.time()\n",
    "gap = end_time - start_time\n",
    "print('1에서 1,000,000까지의 합을 100번 반복해서 구하는 시간 : {:.4f}초'.format(gap))\n",
    "\n",
    "print('\\n2번')\n",
    "start_time = time.time()\n",
    "for _ in range(100):\n",
    "    fact(1000)\n",
    "end_time = time.time()\n",
    "gap = end_time - start_time\n",
    "print('1000!을 100번 반복해서 구하는 시간 : {:.4f}초'.format(gap))\n",
    "\n",
    "print('\\n3번')\n",
    "start_time = time.time()\n",
    "for _ in range(100):\n",
    "    pow3(1000)\n",
    "end_time = time.time()\n",
    "gap = end_time - start_time\n",
    "print('1에서 1000까지 홀수의 세제곱 더하기 결과 : ', pow3(1000))\n",
    "print('1에서 1000까지 홀수의 세제곱 더하기를 100번 반복하는 시간 : {:.4f}초'.format(gap))\n",
    "\n",
    "print('\\n4번')\n",
    "start_time = time.time()\n",
    "for _ in range(100):\n",
    "    getsin()\n",
    "end_time = time.time()\n",
    "gap = end_time - start_time\n",
    "print('1에서 360도까지 sin 값의 합 : ', getsin())\n",
    "print('1에서 360도까지 sin 값의 합을 100번 반복하는 시간 : {:.4f}초'.format(gap))"
   ]
  },
  {
   "cell_type": "code",
   "execution_count": 43,
   "id": "0878d22e",
   "metadata": {},
   "outputs": [
    {
     "name": "stdout",
     "output_type": "stream",
     "text": [
      "1번\n",
      "478789\n",
      "491134\n",
      "503479\n",
      "515824\n",
      "528169\n",
      "540514\n",
      "552859\n",
      "565204\n",
      "577549\n",
      "589894\n",
      "\n",
      "2번\n",
      "561334\n",
      "586024\n",
      "598369\n",
      "610714\n",
      "623059\n",
      "\n",
      "\n",
      "635404\n",
      "647749\n",
      "660094\n",
      "672439\n",
      "684784\n",
      "\n",
      "\n"
     ]
    }
   ],
   "source": [
    "#7-4.\n",
    "#1.\n",
    "print('1번')\n",
    "import random as rd\n",
    "def my_rand(x):\n",
    "    a = 12345\n",
    "    b = 234478789\n",
    "    m = 1000000\n",
    "    new_x = (a*x + b)%m\n",
    "    return new_x\n",
    "\n",
    "for i in range(10):\n",
    "    print(my_rand(i))\n",
    "    \n",
    "#2.\n",
    "print('\\n2번')\n",
    "for _ in range(2):\n",
    "    for _ in range(5):\n",
    "        num = int(time.time())\n",
    "        print(my_rand(num))\n",
    "        time.sleep(1)\n",
    "    print('\\n')"
   ]
  },
  {
   "cell_type": "code",
   "execution_count": 45,
   "id": "08eec218",
   "metadata": {},
   "outputs": [
    {
     "name": "stdout",
     "output_type": "stream",
     "text": [
      "sin(  0) = 0.000, cos(  0) = 1.000, tan(  0) = 0.000\n",
      "sin( 10) = 0.174, cos( 10) = 0.985, tan( 10) = 0.176\n",
      "sin( 20) = 0.342, cos( 20) = 0.940, tan( 20) = 0.364\n",
      "sin( 30) = 0.500, cos( 30) = 0.866, tan( 30) = 0.577\n",
      "sin( 40) = 0.643, cos( 40) = 0.766, tan( 40) = 0.839\n",
      "sin( 50) = 0.766, cos( 50) = 0.643, tan( 50) = 1.192\n",
      "sin( 60) = 0.866, cos( 60) = 0.500, tan( 60) = 1.732\n",
      "sin( 70) = 0.940, cos( 70) = 0.342, tan( 70) = 2.747\n",
      "sin( 80) = 0.985, cos( 80) = 0.174, tan( 80) = 5.671\n",
      "sin( 90) = 1.000, cos( 90) = 0.000, tan( 90) = 16331239353195370.000\n",
      "sin(100) = 0.985, cos(100) = -0.174, tan(100) = -5.671\n",
      "sin(110) = 0.940, cos(110) = -0.342, tan(110) = -2.747\n",
      "sin(120) = 0.866, cos(120) = -0.500, tan(120) = -1.732\n",
      "sin(130) = 0.766, cos(130) = -0.643, tan(130) = -1.192\n",
      "sin(140) = 0.643, cos(140) = -0.766, tan(140) = -0.839\n",
      "sin(150) = 0.500, cos(150) = -0.866, tan(150) = -0.577\n",
      "sin(160) = 0.342, cos(160) = -0.940, tan(160) = -0.364\n",
      "sin(170) = 0.174, cos(170) = -0.985, tan(170) = -0.176\n",
      "sin(180) = 0.000, cos(180) = -1.000, tan(180) = -0.000\n"
     ]
    }
   ],
   "source": [
    "#7-5\n",
    "for i in range(0, 181,10):\n",
    "    num = m.radians(i)\n",
    "    print('sin({:3d}) = {:.3f}, cos({:3d}) = {:.3f}, tan({:3d}) = {:.3f}'.format(i, m.sin(num), i, m.cos(num), i, m.tan(num)))"
   ]
  },
  {
   "cell_type": "code",
   "execution_count": 46,
   "id": "2f09f15b",
   "metadata": {
    "scrolled": true
   },
   "outputs": [
    {
     "name": "stdout",
     "output_type": "stream",
     "text": [
      "sqrt( 1) = 1.000\n",
      "sqrt( 2) = 1.414\n",
      "sqrt( 3) = 1.732\n",
      "sqrt( 4) = 2.000\n",
      "sqrt( 5) = 2.236\n",
      "sqrt( 6) = 2.449\n",
      "sqrt( 7) = 2.646\n",
      "sqrt( 8) = 2.828\n",
      "sqrt( 9) = 3.000\n",
      "sqrt(10) = 3.162\n"
     ]
    }
   ],
   "source": [
    "#7-6\n",
    "for i in range(1,11):\n",
    "    print('sqrt({:2d}) = {:.3f}'.format(i, m.sqrt(i)))"
   ]
  },
  {
   "cell_type": "code",
   "execution_count": 15,
   "id": "2d82172d",
   "metadata": {},
   "outputs": [
    {
     "name": "stdout",
     "output_type": "stream",
     "text": [
      "log(  1) = 0.000\n",
      "log( 31) = 3.434\n",
      "log( 61) = 4.111\n",
      "log( 91) = 4.511\n",
      "log(121) = 4.796\n",
      "log(151) = 5.017\n",
      "log(181) = 5.198\n",
      "log(211) = 5.352\n",
      "log(241) = 5.485\n",
      "log(271) = 5.602\n"
     ]
    }
   ],
   "source": [
    "#7-7 math모듈 사용하는 부분까지만\n",
    "import math as m\n",
    "for e in range(1,301,30):\n",
    "    print('log({:3d}) = {:.3f}'.format(e,m.log(e)))\n"
   ]
  },
  {
   "cell_type": "code",
   "execution_count": 53,
   "id": "1b357a3f",
   "metadata": {},
   "outputs": [
    {
     "name": "stdout",
     "output_type": "stream",
     "text": [
      "로미오의 주사위 숫자는 4입니다.\n",
      "줄리엣의 주사위 숫자는 5입니다.\n",
      "줄리엣이 이겼습니다.\n"
     ]
    }
   ],
   "source": [
    "#7-8\n",
    "while(1):\n",
    "    rom = rd.randrange(1,7)\n",
    "    jul = rd.randrange(1,7)\n",
    "    print('로미오의 주사위 숫자는 {}입니다.'.format(rom))\n",
    "    print('줄리엣의 주사위 숫자는 {}입니다.'.format(jul))\n",
    "    if (rom>jul): \n",
    "        print('로미오가 이겼습니다.')\n",
    "        break\n",
    "    elif (rom<jul):\n",
    "        print('줄리엣이 이겼습니다.')\n",
    "        break\n",
    "    else:\n",
    "        print('비겼습니다. 주사위를 다시 던집니다.')"
   ]
  },
  {
   "cell_type": "code",
   "execution_count": 55,
   "id": "05b63603",
   "metadata": {},
   "outputs": [
    {
     "name": "stdout",
     "output_type": "stream",
     "text": [
      "로미오의 승부 :  1\n",
      "줄리엣의 승부 :  1\n",
      "비겼습니다. 가위바위보를 다시 합니다.\n",
      "로미오의 승부 :  0\n",
      "줄리엣의 승부 :  1\n",
      "줄리엣이 이겼습니다.\n"
     ]
    }
   ],
   "source": [
    "#7-9.\n",
    "while(1): \n",
    "    rom = rd.randrange(0,3)  #1: 가위, 2: 바위, 3: 보\n",
    "    jul = rd.randrange(0,3)\n",
    "    print('로미오의 승부 : ', rom)\n",
    "    print('줄리엣의 승부 : ', jul)\n",
    "    if rom == 0:  #가위\n",
    "        if jul == 0: #가위\n",
    "            print('비겼습니다. 가위바위보를 다시 합니다.')\n",
    "        elif jul == 1: #바위\n",
    "            print('줄리엣이 이겼습니다.')\n",
    "            break\n",
    "        else: #보\n",
    "            print('로미오가 이겼습니다.')\n",
    "            break\n",
    "    elif rom == 1: #바위\n",
    "        if jul == 0: #가위\n",
    "            print('로미오가 이겼습니다.')\n",
    "            break\n",
    "        elif jul == 1: #바위\n",
    "            print('비겼습니다. 가위바위보를 다시 합니다.')\n",
    "        else: #보\n",
    "            print('줄리엣이 이겼습니다.')\n",
    "            break\n",
    "    else:#보\n",
    "        if jul == 0: #가위\n",
    "            print('줄리엣이 이겼습니다.')\n",
    "            break\n",
    "        elif jul == 1: #바위\n",
    "            print('로미오가 이겼습니다.')\n",
    "            break\n",
    "        else:\n",
    "            print('비겼습니다. 가위바위보를 다시 합니다.')"
   ]
  },
  {
   "cell_type": "code",
   "execution_count": 2,
   "id": "dac9f992",
   "metadata": {},
   "outputs": [
    {
     "name": "stdout",
     "output_type": "stream",
     "text": [
      "1~20까지의 숫자를 입력하세요 : 5\n",
      "5보다 큽니다!\n",
      "1~20까지의 숫자를 입력하세요 : 7\n",
      "7보다 큽니다!\n",
      "1~20까지의 숫자를 입력하세요 : 13\n",
      "13보다 큽니다!\n",
      "1~20까지의 숫자를 입력하세요 : 17\n",
      "17보다 큽니다!\n",
      "1~20까지의 숫자를 입력하세요 : 18\n",
      "정답입니다!\n",
      "5번만에 맞추셨네요. 잘했어요^^\n"
     ]
    }
   ],
   "source": [
    "#7-10.\n",
    "import random as rd\n",
    "x = rd.randrange(1,21)\n",
    "n = 0\n",
    "while(1):\n",
    "    answer = int(input('1~20까지의 숫자를 입력하세요 : '))\n",
    "    n += 1\n",
    "    if(x == answer):\n",
    "        print('정답입니다!')\n",
    "        if (n<7): print('{}번만에 맞추셨네요. 잘했어요^^'.format(n))\n",
    "        else: print('{}번 만에 맞추다니 쩝쩝...'.format(n))\n",
    "        break\n",
    "    elif(x>answer):\n",
    "        print('{}보다 큽니다!'.format(answer))\n",
    "    else:\n",
    "        print('{}보다 작습니다!'.format(answer))"
   ]
  },
  {
   "cell_type": "code",
   "execution_count": null,
   "id": "e23da907",
   "metadata": {},
   "outputs": [],
   "source": []
  }
 ],
 "metadata": {
  "kernelspec": {
   "display_name": "Python 3 (ipykernel)",
   "language": "python",
   "name": "python3"
  },
  "language_info": {
   "codemirror_mode": {
    "name": "ipython",
    "version": 3
   },
   "file_extension": ".py",
   "mimetype": "text/x-python",
   "name": "python",
   "nbconvert_exporter": "python",
   "pygments_lexer": "ipython3",
   "version": "3.9.12"
  }
 },
 "nbformat": 4,
 "nbformat_minor": 5
}
