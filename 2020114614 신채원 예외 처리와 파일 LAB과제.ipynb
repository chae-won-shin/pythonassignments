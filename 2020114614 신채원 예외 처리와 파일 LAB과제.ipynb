{
 "cells": [
  {
   "cell_type": "code",
   "execution_count": 4,
   "id": "1f85bf2e",
   "metadata": {},
   "outputs": [
    {
     "name": "stdout",
     "output_type": "stream",
     "text": [
      "두 수를 입력하시오: 10 0\n"
     ]
    },
    {
     "ename": "ZeroDivisionError",
     "evalue": "division by zero",
     "output_type": "error",
     "traceback": [
      "\u001b[1;31m---------------------------------------------------------------------------\u001b[0m",
      "\u001b[1;31mZeroDivisionError\u001b[0m                         Traceback (most recent call last)",
      "Input \u001b[1;32mIn [4]\u001b[0m, in \u001b[0;36m<cell line: 3>\u001b[1;34m()\u001b[0m\n\u001b[0;32m      1\u001b[0m \u001b[38;5;66;03m#대화창 실습: 0으로 나누는 오류\u001b[39;00m\n\u001b[0;32m      2\u001b[0m a, b\u001b[38;5;241m=\u001b[39m \u001b[38;5;28minput\u001b[39m(\u001b[38;5;124m'\u001b[39m\u001b[38;5;124m두 수를 입력하시오: \u001b[39m\u001b[38;5;124m'\u001b[39m)\u001b[38;5;241m.\u001b[39msplit()\n\u001b[1;32m----> 3\u001b[0m result \u001b[38;5;241m=\u001b[39m \u001b[38;5;28;43mint\u001b[39;49m\u001b[43m(\u001b[49m\u001b[43ma\u001b[49m\u001b[43m)\u001b[49m\u001b[38;5;241;43m/\u001b[39;49m\u001b[38;5;28;43mint\u001b[39;49m\u001b[43m(\u001b[49m\u001b[43mb\u001b[49m\u001b[43m)\u001b[49m\n\u001b[0;32m      4\u001b[0m \u001b[38;5;28mprint\u001b[39m(result)\n",
      "\u001b[1;31mZeroDivisionError\u001b[0m: division by zero"
     ]
    }
   ],
   "source": [
    "#대화창 실습: 0으로 나누는 오류\n",
    "a, b= input('두 수를 입력하시오: ').split()\n",
    "result = int(a)/int(b)\n",
    "print(result)"
   ]
  },
  {
   "cell_type": "code",
   "execution_count": 21,
   "id": "86c8977e",
   "metadata": {},
   "outputs": [
    {
     "name": "stdout",
     "output_type": "stream",
     "text": [
      "두 수를 입력하세요 : 10 0\n",
      "수가 정확한지 확인하세요.\n",
      "\n",
      "두 수를 입력하세요 : 사백 이백\n",
      "수가 정확한지 확인하세요.\n",
      "\n",
      "두 수를 입력하세요 : 50 2\n",
      "50/2 = 25.0\n"
     ]
    }
   ],
   "source": [
    "#try-except 구문을 이용한 예외 처리\n",
    "while(1):\n",
    "    try:\n",
    "        a,b = map(int, input('두 수를 입력하세요 : ').split())\n",
    "        result = a/b\n",
    "        print('{}/{} = {}'.format(a,b,result)) \n",
    "        break\n",
    "    except:\n",
    "        print('수가 정확한지 확인하세요.\\n')"
   ]
  },
  {
   "cell_type": "code",
   "execution_count": 9,
   "id": "30540014",
   "metadata": {},
   "outputs": [
    {
     "name": "stdout",
     "output_type": "stream",
     "text": [
      "error : division by zero\n"
     ]
    }
   ],
   "source": [
    "# except as e: 예외 종류 출력하기 1\n",
    "try : \n",
    "    b = 2/0\n",
    "    a = 1 + 'hundred'\n",
    "except Exception as e:\n",
    "    print('error :', e)"
   ]
  },
  {
   "cell_type": "code",
   "execution_count": 10,
   "id": "cee091cd",
   "metadata": {},
   "outputs": [
    {
     "name": "stdout",
     "output_type": "stream",
     "text": [
      "error : unsupported operand type(s) for +: 'int' and 'str'\n"
     ]
    }
   ],
   "source": [
    "# except as e: 예외 종류 출력하기 2\n",
    "try : \n",
    "    #b = 2/0\n",
    "    a = 1 + 'hundred'\n",
    "except Exception as e:\n",
    "    print('error :', e)"
   ]
  },
  {
   "cell_type": "code",
   "execution_count": 13,
   "id": "8f8d3838",
   "metadata": {},
   "outputs": [
    {
     "name": "stdout",
     "output_type": "stream",
     "text": [
      "#1 error :  list index out of range\n",
      "#2 error :  invalid literal for int() with base 10: '20%'\n",
      "#3 error : unsupported operand type(s) for +: 'int' and 'str'\n"
     ]
    }
   ],
   "source": [
    "#LAb 8-1\n",
    "try:\n",
    "    a = [10, 20, 30]\n",
    "    print(a[3])\n",
    "except Exception as e:\n",
    "    print('#1 error : ', e)\n",
    "\n",
    "try:\n",
    "    n = int('20%')\n",
    "except Exception as e:\n",
    "    print('#2 error : ', e)\n",
    "    \n",
    "try: \n",
    "    a = 100+'200'\n",
    "except Exception as e:\n",
    "    print('#3 error :', e)"
   ]
  },
  {
   "cell_type": "code",
   "execution_count": 14,
   "id": "ad62ebcf",
   "metadata": {},
   "outputs": [
    {
     "name": "stdout",
     "output_type": "stream",
     "text": [
      "0으로 나누는 오류\n"
     ]
    }
   ],
   "source": [
    "#구체적인 예외 처리 1\n",
    "try:\n",
    "    b = 2/0\n",
    "    a = 1+'hundred'\n",
    "except ZeroDivisionError:\n",
    "    print('0으로 나누는 오류')\n",
    "except TypeError:\n",
    "    print('지원되지 않는 연산자를 사용하는 오류')"
   ]
  },
  {
   "cell_type": "code",
   "execution_count": 15,
   "id": "f200cb21",
   "metadata": {},
   "outputs": [
    {
     "name": "stdout",
     "output_type": "stream",
     "text": [
      "지원되지 않는 연산자를 사용하는 오류\n"
     ]
    }
   ],
   "source": [
    "#구체적인 예외 처리 2\n",
    "try:\n",
    "    #b = 2/0\n",
    "    a = 1+'hundred'\n",
    "except ZeroDivisionError:\n",
    "    print('0으로 나누는 오류')\n",
    "except TypeError:\n",
    "    print('지원되지 않는 연산자를 사용하는 오류')"
   ]
  },
  {
   "cell_type": "code",
   "execution_count": 16,
   "id": "de2f2c45",
   "metadata": {},
   "outputs": [
    {
     "name": "stdout",
     "output_type": "stream",
     "text": [
      "0으로 나누는 오류\n"
     ]
    }
   ],
   "source": [
    "#구체적인 예외 처리 3\n",
    "try:\n",
    "    b = 2/0\n",
    "    a = 1+'hundred'\n",
    "except ZeroDivisionError:\n",
    "    print('0으로 나누는 오류')\n",
    "except TypeError:\n",
    "    print('지원되지 않는 연산자를 사용하는 오류')\n",
    "except Exception as e:\n",
    "    print('error : ', e)\n",
    "    print('나눗셈과 연산자를 다시 확인하세요')"
   ]
  },
  {
   "cell_type": "code",
   "execution_count": 20,
   "id": "e074e286",
   "metadata": {},
   "outputs": [
    {
     "name": "stdout",
     "output_type": "stream",
     "text": [
      "두 수를 입력하시오 : 20 0\n",
      "오류: 0으로 나눔을 시도했습니다.\n",
      "\n",
      "두 수를 입력하시오 : 이십 사십\n",
      "오류 : 10 2와 같이 두 정수를 입력하세요.\n",
      "\n",
      "두 수를 입력하시오 : 10 2\n",
      "10/2 = 5.0\n"
     ]
    }
   ],
   "source": [
    "#복수의 except문과 else문을 포함한 예외처리\n",
    "while(1):\n",
    "    try:\n",
    "        a, b= input('두 수를 입력하시오 : ').split()\n",
    "        result = int(a)/int(b)\n",
    "    except ZeroDivisionError:\n",
    "        print('오류: 0으로 나눔을 시도했습니다.\\n')\n",
    "    except ValueError:\n",
    "        print('오류 : 10 2와 같이 두 정수를 입력하세요.\\n')\n",
    "    else:\n",
    "        print('{}/{} = {}'.format(a,b,result))\n",
    "        break"
   ]
  },
  {
   "cell_type": "code",
   "execution_count": 23,
   "id": "9b7ba3f8",
   "metadata": {},
   "outputs": [
    {
     "name": "stdout",
     "output_type": "stream",
     "text": [
      "error : division by zero\n",
      "정수 x를 입력하세요 : 10\n",
      "error : [Errno 2] No such file or directory: 'myfile.txt'\n"
     ]
    }
   ],
   "source": [
    "#LAB 8-2\n",
    "try :\n",
    "    10*(30/0)\n",
    "except Exception as e:\n",
    "    print('error :', e)\n",
    "\n",
    "try :\n",
    "    x = int(input('정수 x를 입력하세요 : '))\n",
    "except EXception as e:\n",
    "    print('error :', e)\n",
    "    \n",
    "try :\n",
    "    import sys\n",
    "    f = open('myfile.txt')\n",
    "    s = f.readline()\n",
    "except Exception as e:\n",
    "    print('error :', e)"
   ]
  },
  {
   "cell_type": "code",
   "execution_count": 24,
   "id": "2c7c06cf",
   "metadata": {},
   "outputs": [
    {
     "name": "stdout",
     "output_type": "stream",
     "text": [
      "divide(100,2) 함수 호출 : \n",
      "결과 :  50.0\n",
      "수행 완료\n",
      "divide (100, 0) 함수 호출 : \n",
      "0으로 나누는 오류발생\n",
      "수행 완료\n"
     ]
    }
   ],
   "source": [
    "#try-except-else-finally 구문 사용법\n",
    "#finally: 예외의 발생 여부와 상관없이 항상 실행되는 블록\n",
    "def divide(x,y):\n",
    "    try: \n",
    "        result = x/y\n",
    "    except ZeroDivisionError:\n",
    "        print('0으로 나누는 오류발생')\n",
    "    else:\n",
    "        print('결과 : ', result)\n",
    "    finally:\n",
    "        print('수행 완료')\n",
    "        \n",
    "print('divide(100,2) 함수 호출 : ')\n",
    "divide(100,2)\n",
    "print('divide (100, 0) 함수 호출 : ')\n",
    "divide(100,0)"
   ]
  },
  {
   "cell_type": "code",
   "execution_count": 33,
   "id": "2c100802",
   "metadata": {},
   "outputs": [
    {
     "name": "stdout",
     "output_type": "stream",
     "text": [
      "1번\n",
      "[1, 2, 3, 4, 5]\n",
      "a의 요소를 하나 선택하시오 :2\n",
      "2는 두 번째 요소입니다.\n",
      "\n",
      "a의 요소를 하나 선택하시오 :1\n",
      "1는 첫 번째 요소입니다.\n",
      "\n",
      "2번\n",
      "[1, 2, 3, 4, 5]\n",
      "a의 요소를 하나 선택하시오 : 삼\n",
      "입력 값이 정수나 실수가 아님\n"
     ]
    }
   ],
   "source": [
    "#LAB 8-3\n",
    "#1\n",
    "print('1번')\n",
    "a = [1,2,3,4,5]\n",
    "def selection(i):\n",
    "    if i == 1:\n",
    "        print('{}는 첫 번째 요소입니다.'.format(i))\n",
    "    elif i == 2:\n",
    "        print('{}는 두 번째 요소입니다.'.format(i))\n",
    "    elif i == 3:\n",
    "        print('{}는 세 번째 요소입니다.'.format(i))\n",
    "    elif i == 4:\n",
    "        print('{}는 네 번째 요소입니다.'.format(i))\n",
    "    else :\n",
    "        print('{}는 다섯 번째 요소입니다.'.format(i))\n",
    "        \n",
    "print(a)\n",
    "index1 = int(input('a의 요소를 하나 선택하시오 :'))\n",
    "selection(index1)\n",
    "index2 = int(input('\\na의 요소를 하나 선택하시오 :'))\n",
    "selection(index2)\n",
    "\n",
    "print('\\n2번')\n",
    "print(a)\n",
    "try:\n",
    "    index3 = input('a의 요소를 하나 선택하시오 : ')\n",
    "    selection(int(index3))\n",
    "except ValueError:\n",
    "    print('입력 값이 정수나 실수가 아님')\n",
    "except Exception as e:\n",
    "    print('error : ', e)"
   ]
  },
  {
   "cell_type": "code",
   "execution_count": 34,
   "id": "61c87782",
   "metadata": {},
   "outputs": [
    {
     "name": "stdout",
     "output_type": "stream",
     "text": [
      "예/아니오 중 하나를 입력하세요 :예-쓰\n",
      "error :  입력을 확인하세요.\n",
      "예/아니오 중 하나를 입력하세요 :노우\n",
      "error :  입력을 확인하세요.\n",
      "예/아니오 중 하나를 입력하세요 :예\n",
      "정상적인 입력입니다.\n"
     ]
    }
   ],
   "source": [
    "#raise를 이용한 예외의 발생\n",
    "def get_ans(ans):\n",
    "    if ans in ['예', '아니오']:\n",
    "        print('정상적인 입력입니다.')\n",
    "    else:\n",
    "        raise ValueError('입력을 확인하세요.')\n",
    "        \n",
    "while True:\n",
    "    try:\n",
    "        ans = input('예/아니오 중 하나를 입력하세요 :')\n",
    "        get_ans(ans)\n",
    "        break\n",
    "    except Exception as e:\n",
    "        print('error : ', e)"
   ]
  },
  {
   "cell_type": "code",
   "execution_count": 36,
   "id": "3549fe33",
   "metadata": {},
   "outputs": [
    {
     "name": "stdout",
     "output_type": "stream",
     "text": [
      "파일 생성 완료\n"
     ]
    }
   ],
   "source": [
    "f = open('numbers.txt', 'w')\n",
    "f.write('100\\n')\n",
    "f.write('200\\n')\n",
    "f.write('300\\n')\n",
    "f.write('400\\n')\n",
    "f.close()\n",
    "\n",
    "print('파일 생성 완료')"
   ]
  },
  {
   "cell_type": "code",
   "execution_count": 37,
   "id": "bd677e8d",
   "metadata": {
    "scrolled": true
   },
   "outputs": [
    {
     "name": "stdout",
     "output_type": "stream",
     "text": [
      "파일 생성 완료\n"
     ]
    }
   ],
   "source": [
    "f = open('we_will_rock.txt', 'w')\n",
    "f.write(\"Buddy, you're a boy, make a big noise\\n\")\n",
    "f.write(\"Playing in the street, gonna be a big man someday\\n\")\n",
    "f.write(\"You got mud on your face, you big disgrace\\n\")\n",
    "f.write(\"Kicking your can all over the place, singin'\\n\")\n",
    "f.write(\"We will, we will rock you\\n\")\n",
    "f.write(\"We will, we will rock you\\n\")\n",
    "f.close()\n",
    "\n",
    "print('파일 생성 완료')"
   ]
  },
  {
   "cell_type": "code",
   "execution_count": 50,
   "id": "0a8621f1",
   "metadata": {
    "scrolled": true
   },
   "outputs": [
    {
     "name": "stdout",
     "output_type": "stream",
     "text": [
      "파일 생성 완료\n"
     ]
    }
   ],
   "source": [
    "f = open('foo.txt', 'w')\n",
    "f.write('AAA\\n')\n",
    "f.write('BBB\\n')\n",
    "f.write('CCC\\n')\n",
    "f.close()\n",
    "\n",
    "print('파일 생성 완료')"
   ]
  },
  {
   "cell_type": "code",
   "execution_count": 51,
   "id": "d2ce6cf0",
   "metadata": {},
   "outputs": [
    {
     "name": "stdout",
     "output_type": "stream",
     "text": [
      "AAA\n",
      "BBB\n"
     ]
    }
   ],
   "source": [
    "f = open('foo.txt', 'r')\n",
    "s = f.readline()\n",
    "print(s, end = '')\n",
    "s = f.readline()\n",
    "print(s, end = '')\n",
    "f.close()"
   ]
  },
  {
   "cell_type": "code",
   "execution_count": 52,
   "id": "fbb88dc5",
   "metadata": {},
   "outputs": [
    {
     "name": "stdout",
     "output_type": "stream",
     "text": [
      "1번\n",
      "100\n",
      "200\n",
      "300\n",
      "400\n",
      "\n",
      "2번\n",
      "Buddy, you're a boy, make a big noise\n",
      "Playing in the street, gonna be a big man someday\n",
      "You got mud on your face, you big disgrace\n",
      "Kicking your can all over the place, singin'\n",
      "We will, we will rock you\n",
      "We will, we will rock you\n"
     ]
    }
   ],
   "source": [
    "#LAB 8-5\n",
    "print('1번')\n",
    "f = open('numbers.txt', 'r')\n",
    "s = f.readline().rstrip()\n",
    "print(s)\n",
    "s = f.readline().rstrip()\n",
    "print(s)\n",
    "s = f.readline().rstrip()\n",
    "print(s)\n",
    "s = f.readline().rstrip()\n",
    "print(s)\n",
    "f.close()\n",
    "\n",
    "print('\\n2번')\n",
    "f = open('we_will_rock.txt','r')\n",
    "s1 = f.readline()\n",
    "print(s1, end = '')\n",
    "s1 = f.readline()\n",
    "print(s1, end = '')\n",
    "s1 = f.readline().rstrip()\n",
    "print(s1)\n",
    "s1 = f.readline().rstrip()\n",
    "print(s1)\n",
    "s = f.readline().rstrip()\n",
    "print(s)\n",
    "s = f.readline().rstrip()\n",
    "print(s)\n",
    "f.close()"
   ]
  },
  {
   "cell_type": "code",
   "execution_count": 53,
   "id": "9f43d31e",
   "metadata": {},
   "outputs": [
    {
     "name": "stdout",
     "output_type": "stream",
     "text": [
      "AAA\n",
      "BBB\n",
      "CCC\n",
      "This will be appended.\n",
      "This too.\n",
      "\n"
     ]
    }
   ],
   "source": [
    "#append모드를 이용한 파일 열기와 추가\n",
    "f = open('foo.txt', 'a+')\n",
    "f.write('This will be appended.\\n')\n",
    "f.write('This too.\\n')\n",
    "f.close()\n",
    "\n",
    "f = open('foo.txt', 'r')\n",
    "s2 = f.read()\n",
    "print(s2)\n",
    "f.close()"
   ]
  },
  {
   "cell_type": "code",
   "execution_count": 56,
   "id": "9dbd5412",
   "metadata": {},
   "outputs": [
    {
     "name": "stdout",
     "output_type": "stream",
     "text": [
      "정수를 입력하세요 :10\n",
      "정수를 입력하세요 :20\n",
      "정수를 입력하세요 :30\n",
      "정수를 입력하세요 :40\n",
      "정수를 입력하세요 :50\n",
      "다섯 숫자의 합 = 150, 평균 = 30.0\n"
     ]
    }
   ],
   "source": [
    "#파일 쓰기와 읽기 예제\n",
    "f = open('data5.txt', 'w')\n",
    "for _ in range(5):\n",
    "    n = input('정수를 입력하세요 :')\n",
    "    f.write(n)\n",
    "    f.write('\\n')\n",
    "f.close()\n",
    "\n",
    "f = open('data5.txt', 'r')\n",
    "su = 0\n",
    "for _ in range(5):\n",
    "    n = int(f.readline())\n",
    "    su += n\n",
    "    \n",
    "print('다섯 숫자의 합 = {}, 평균 = {}'.format(su, su/5))\n",
    "f.close()"
   ]
  },
  {
   "cell_type": "code",
   "execution_count": 57,
   "id": "0845a46e",
   "metadata": {},
   "outputs": [
    {
     "name": "stdout",
     "output_type": "stream",
     "text": [
      "입력할 파일의 이름 :we_will_rock.txt\n",
      "  1: Buddy, you're a boy, make a big noise\n",
      "  2: Playing in the street, gonna be a big man someday\n",
      "  3: You got mud on your face, you big disgrace\n",
      "  4: Kicking your can all over the place, singin'\n",
      "  5: We will, we will rock you\n",
      "  6: We will, we will rock you\n"
     ]
    }
   ],
   "source": [
    "fname = input('입력할 파일의 이름 :')\n",
    "f = open(fname, 'r')\n",
    "n = 1\n",
    "l = f.readline()\n",
    "while l:\n",
    "    print('{:3d}: {}'.format(n, l), end = '')\n",
    "    n+=1\n",
    "    l = f.readline()\n",
    "    \n",
    "f.close()"
   ]
  },
  {
   "cell_type": "code",
   "execution_count": 59,
   "id": "bf332559",
   "metadata": {},
   "outputs": [
    {
     "name": "stdout",
     "output_type": "stream",
     "text": [
      "입력할 파일의 이름 :file_read_5num.py\n",
      "  1: #파일 쓰기와 읽기 예제\n",
      "  2: f = open('data5.txt', 'w')\n",
      "  3: for _ in range(5):\n",
      "  4:     n = input('정수를 입력하세요 :')\n",
      "  5:     f.write(n)\n",
      "  6:     f.write('\\n')\n",
      "  7: f.close()\n",
      "  8: \n",
      "  9: f = open('data5.txt', 'r')\n",
      " 10: su = 0\n",
      " 11: for _ in range(5):\n",
      " 12:     n = int(f.readline())\n",
      " 13:     su += n\n",
      " 14:     \n",
      " 15: print('다섯 숫자의 합 = {}, 평균 = {}'.format(su, su/5))\n",
      " 16: f.close()\n"
     ]
    }
   ],
   "source": [
    "fname = input('입력할 파일의 이름 :')\n",
    "f = open(fname, 'r', encoding = 'UTF8')\n",
    "n = 1\n",
    "l = f.readline()\n",
    "while l:\n",
    "    print('{:3d}: {}'.format(n, l), end = '')\n",
    "    n+=1\n",
    "    l = f.readline()\n",
    "    \n",
    "f.close()"
   ]
  },
  {
   "cell_type": "code",
   "execution_count": 63,
   "id": "0a5693ff",
   "metadata": {},
   "outputs": [
    {
     "name": "stdout",
     "output_type": "stream",
     "text": [
      "입력할 파일의 이름 : file_read_5num.py\n",
      "  1: #파일 쓰기와 읽기 예제\n",
      "  2: f = open('data5.txt', 'w')\n",
      "  3: for _ in range(5):\n",
      "  4:     n = input('정수를 입력하세요 :')\n",
      "  5:     f.write(n)\n",
      "  6:     f.write('\\n')\n",
      "  7: f.close()\n",
      "  8: \n",
      "  9: f = open('data5.txt', 'r')\n",
      " 10: su = 0\n",
      " 11: for _ in range(5):\n",
      " 12:     n = int(f.readline())\n",
      " 13:     su += n\n",
      " 14:     \n",
      " 15: print('다섯 숫자의 합 = {}, 평균 = {}'.format(su, su/5))\n",
      " 16: f.close()\n"
     ]
    }
   ],
   "source": [
    "#예외처리를 포함한 파일 입출력\n",
    "import sys\n",
    "\n",
    "fname = input('입력할 파일의 이름 : ')\n",
    "try:\n",
    "    f = open(fname, 'r', encoding = 'UTF8')\n",
    "except IOerror:\n",
    "    print('Could not read file:', fname)\n",
    "    sys.exit()\n",
    "except:\n",
    "    print('Inexpected error:', sys.exc_info()[0])\n",
    "    sys.exit()\n",
    "    \n",
    "n = 1\n",
    "l = f.readline()\n",
    "while l:\n",
    "    print('{:3d}: {}'.format(n,l), end = '')\n",
    "    n += 1\n",
    "    l = f.readline()\n",
    "f.close()"
   ]
  },
  {
   "cell_type": "code",
   "execution_count": 80,
   "id": "2baeebd3",
   "metadata": {},
   "outputs": [
    {
     "name": "stdout",
     "output_type": "stream",
     "text": [
      "입력할 파일의 이름 : we_will_rock.txt\n",
      "  1: BUDDY, YOU'RE A BOY, MAKE A BIG NOISE\n",
      "  2: PLAYING IN THE STREET, GONNA BE A BIG MAN SOMEDAY\n",
      "  3: YOU GOT MUD ON YOUR FACE, YOU BIG DISGRACE\n",
      "  4: KICKING YOUR CAN ALL OVER THE PLACE, SINGIN'\n",
      "  5: WE WILL, WE WILL ROCK YOU\n",
      "  6: WE WILL, WE WILL ROCK YOU\n"
     ]
    }
   ],
   "source": [
    "#LAB 8-6 1번\n",
    "import sys\n",
    "fname = input('입력할 파일의 이름 : ')\n",
    "try :\n",
    "    f = open(fname, 'r')\n",
    "except Exception as e:\n",
    "    print('error :', e)\n",
    "    \n",
    "n = 1\n",
    "l = f.readline().upper()\n",
    "while l:\n",
    "    print('{:3d}: {}'.format(n,l), end = '')\n",
    "    n += 1\n",
    "    l = f.readline().upper()\n",
    "f.close()"
   ]
  },
  {
   "cell_type": "code",
   "execution_count": 89,
   "id": "76052111",
   "metadata": {},
   "outputs": [
    {
     "name": "stdout",
     "output_type": "stream",
     "text": [
      "입력할 파일의 이름: we_will_rock.txt\n",
      "We will, we will rock you\n",
      "We will, we will rock you\n",
      "Kicking your can all over the place, singin'\n",
      "You got mud on your face, you big disgrace\n",
      "Playing in the street, gonna be a big man someday\n",
      "Buddy, you're a boy, make a big noise\n",
      "\n"
     ]
    }
   ],
   "source": [
    "#LAB 8-6 2번\n",
    "fname = input('입력할 파일의 이름: ')\n",
    "try:\n",
    "    f = open(fname, 'r')\n",
    "except Exception as e:\n",
    "    print('error :', e)\n",
    "    \n",
    "n = 1\n",
    "lyric = ''\n",
    "l = f.readline()\n",
    "while l:\n",
    "    lyric = l+ lyric\n",
    "    n+=1\n",
    "    l = f.readline()\n",
    "\n",
    "print(lyric)"
   ]
  },
  {
   "cell_type": "code",
   "execution_count": null,
   "id": "ea371aa4",
   "metadata": {},
   "outputs": [],
   "source": []
  }
 ],
 "metadata": {
  "kernelspec": {
   "display_name": "Python 3 (ipykernel)",
   "language": "python",
   "name": "python3"
  },
  "language_info": {
   "codemirror_mode": {
    "name": "ipython",
    "version": 3
   },
   "file_extension": ".py",
   "mimetype": "text/x-python",
   "name": "python",
   "nbconvert_exporter": "python",
   "pygments_lexer": "ipython3",
   "version": "3.9.12"
  }
 },
 "nbformat": 4,
 "nbformat_minor": 5
}
