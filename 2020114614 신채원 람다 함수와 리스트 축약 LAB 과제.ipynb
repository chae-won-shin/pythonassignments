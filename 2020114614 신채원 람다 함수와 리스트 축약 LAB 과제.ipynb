{
 "cells": [
  {
   "cell_type": "code",
   "execution_count": 45,
   "id": "c9dbd624",
   "metadata": {},
   "outputs": [
    {
     "name": "stdout",
     "output_type": "stream",
     "text": [
      "100과 200의 합 : 300\n",
      "100과 200의 합 : 300\n"
     ]
    }
   ],
   "source": [
    "#람다함수 정의하고 add라는 변수를 통해 참조하기\n",
    "add = lambda x, y: x + y\n",
    "print('100과 200의 합 :', add(100,200))\n",
    "\n",
    "#인라인 람다 함수와 인자를 이용한 덧셈\n",
    "print('100과 200의 합 :', (lambda x, y: x+ y)(100, 200))"
   ]
  },
  {
   "cell_type": "code",
   "execution_count": 46,
   "id": "655ef9ac",
   "metadata": {},
   "outputs": [
    {
     "name": "stdout",
     "output_type": "stream",
     "text": [
      "200 - 100 = 100\n",
      "200 - 100 = 100\n"
     ]
    }
   ],
   "source": [
    "#LAB 10-1\n",
    "\n",
    "#1번\n",
    "def sub(x, y):\n",
    "    return x - y\n",
    "\n",
    "print('200 - 100 =', sub(200, 100))\n",
    "\n",
    "#2번\n",
    "sub = lambda x, y : x - y\n",
    "print('200 - 100 =', sub(200, 100))"
   ]
  },
  {
   "cell_type": "code",
   "execution_count": 47,
   "id": "74084d28",
   "metadata": {},
   "outputs": [
    {
     "name": "stdout",
     "output_type": "stream",
     "text": [
      "성년 리스트 :\n",
      "34 39 20 54 \n",
      "\n",
      "성년 리스트 :\n",
      "34 39 20 54 "
     ]
    }
   ],
   "source": [
    "#필터 함수의 사용\n",
    "def adult_func(n):\n",
    "    if n>=19:\n",
    "        return True\n",
    "    else:\n",
    "        return False\n",
    "    \n",
    "ages = [34, 39, 20, 18, 13, 54]\n",
    "print('성년 리스트 :')\n",
    "for a in filter(adult_func, ages):\n",
    "    print(a, end = ' ')\n",
    "    \n",
    "print('\\n')\n",
    "#람다 함수를 이용한 간략화된 필터\n",
    "print('성년 리스트 :')\n",
    "for a in filter(lambda x : x>=19, ages):\n",
    "    print(a, end = ' ')"
   ]
  },
  {
   "cell_type": "code",
   "execution_count": 48,
   "id": "d255a52f",
   "metadata": {},
   "outputs": [
    {
     "name": "stdout",
     "output_type": "stream",
     "text": [
      "even_list = [2, 4, 6, 8, 10, 12, 14, 16, 18, 20, 22, 24, 26, 28, 30, 32, 34, 36, 38, 40, 42, 44, 46, 48, 50, 52, 54, 56, 58, 60, 62, 64, 66, 68, 70, 72, 74, 76, 78, 80, 82, 84, 86, 88, 90, 92, 94, 96, 98, 100]\n"
     ]
    }
   ],
   "source": [
    "#추가 실습: 1~100에서 짝수 리스트만 추출하기\n",
    "num_list = []\n",
    "even_list = []\n",
    "for n in range(1,101):\n",
    "    num_list.append(n)\n",
    "    \n",
    "for even in filter(lambda x : (x%2 == 0), num_list):\n",
    "    even_list.append(even)\n",
    "    \n",
    "print('even_list =', even_list)"
   ]
  },
  {
   "cell_type": "code",
   "execution_count": 49,
   "id": "0f00c656",
   "metadata": {},
   "outputs": [
    {
     "name": "stdout",
     "output_type": "stream",
     "text": [
      "(1) even_list에 하나하나 추가하기 : [2, 4, 6, 8, 10]\n",
      "(2) list() 이용하여 리스트 객체로 만들기 : [2, 4, 6, 8, 10]\n",
      "\n",
      "(1) odd_list에 하나하나 추가하기 : [1, 3, 5, 7, 9]\n",
      "(2) list() 이용하여 리스트 객체로 만들기 : [1, 3, 5, 7, 9]\n"
     ]
    }
   ],
   "source": [
    "#LAB 10-2\n",
    "#1번\n",
    "n_list = [1,2,3,4,5,6,7,8,9,10]\n",
    "even_list = []\n",
    "\n",
    "for even in filter(lambda x : (x%2 == 0), n_list):\n",
    "    even_list.append(even)\n",
    "print('(1) even_list에 하나하나 추가하기 :', even_list)\n",
    "    \n",
    "print('(2) list() 이용하여 리스트 객체로 만들기 :', list(filter(lambda x : (x%2 == 0), n_list)))\n",
    "\n",
    "print()\n",
    "#2번\n",
    "odd_list = []\n",
    "\n",
    "for odd in filter(lambda x : (x%2 != 0), n_list):\n",
    "    odd_list.append(odd)\n",
    "print('(1) odd_list에 하나하나 추가하기 :', odd_list)\n",
    "    \n",
    "print('(2) list() 이용하여 리스트 객체로 만들기 :', list(filter(lambda x : (x%2 != 0), n_list)))"
   ]
  },
  {
   "cell_type": "code",
   "execution_count": 50,
   "id": "20dba405",
   "metadata": {},
   "outputs": [
    {
     "name": "stdout",
     "output_type": "stream",
     "text": [
      "[1, 4, 9, 16, 25, 36, 49]\n"
     ]
    }
   ],
   "source": [
    "#맵 함수와 람다 함수를 이용한 제곲갑 리스트 생성\n",
    "#맵 함수: map(적용할 매핑 함수, 반복가능 객체)\n",
    "a = [1, 2, 3, 4, 5, 6, 7]\n",
    "square_a = list(map(lambda x: x**2, a))\n",
    "print(square_a)"
   ]
  },
  {
   "cell_type": "code",
   "execution_count": 52,
   "id": "c44e5ce2",
   "metadata": {},
   "outputs": [
    {
     "name": "stdout",
     "output_type": "stream",
     "text": [
      "to_upper 함수 정의하여 변환 : ['A', 'B', 'C', 'D']\n",
      "람다 함수 이용 : ['A', 'B', 'C', 'D']\n"
     ]
    }
   ],
   "source": [
    "#LAB 10-3\n",
    "#1번\n",
    "def to_upper(a):\n",
    "    new_a = chr(ord(a) - ord('a') + ord('A'))  #chr: 아스키코드를 문자로 변환, ord: 문자를 아스키코드로 변환\n",
    "    return new_a\n",
    "\n",
    "a_list = ['a', 'b', 'c', 'd']\n",
    "upper_a_list1 = list(map(to_upper, a_list))\n",
    "print('to_upper 함수 정의하여 변환 :', upper_a_list1)\n",
    "\n",
    "upper_a_list2 = list(map(lambda a : a.upper(), a_list))\n",
    "print('람다 함수 이용 :', upper_a_list2)"
   ]
  },
  {
   "cell_type": "code",
   "execution_count": 53,
   "id": "294ca324",
   "metadata": {},
   "outputs": [
    {
     "name": "stdout",
     "output_type": "stream",
     "text": [
      "5050\n"
     ]
    }
   ],
   "source": [
    "#리듀스 함수를 이용해 1부터 100까지 더하기\n",
    "#리듀스: 반복가능 객체의 항목들에 대하여 주어진 함수로 연산을 한 값씩 반복적으로 수행\n",
    "#ex. 1+2+3+4를 더한다면 1+2의 결과(3) 반환 후 다시 입력, 3+3의 결과(6) 반환 후 다시 입력, 6+4d의 결과(!0) 최종 반환\n",
    "from functools import reduce\n",
    "num_list = []\n",
    "for n in range(1, 101):\n",
    "    num_list.append(n)\n",
    "    \n",
    "n = reduce(lambda x,y: x+y, num_list)\n",
    "print(n)"
   ]
  },
  {
   "cell_type": "code",
   "execution_count": 54,
   "id": "c9072e9f",
   "metadata": {},
   "outputs": [
    {
     "name": "stdout",
     "output_type": "stream",
     "text": [
      "1부터 100까지의 합 : 5050\n",
      "10! = 3628800\n"
     ]
    }
   ],
   "source": [
    "#LAB 10-4\n",
    "#1번: reduce() 함수를 이용해 1~100까지의 합을 구하되, range(1,101)을 입력으로 사용\n",
    "n = reduce(lambda x,y : x+y, range(1,101))\n",
    "print('1부터 100까지의 합 :', n)\n",
    "\n",
    "#2번: reduce()를 이용해 10! 구하기\n",
    "fact = reduce(lambda x,y : x*y, range(1,11))\n",
    "print('10! =', fact)"
   ]
  },
  {
   "cell_type": "code",
   "execution_count": 55,
   "id": "df22c869",
   "metadata": {},
   "outputs": [
    {
     "name": "stdout",
     "output_type": "stream",
     "text": [
      "맵 함수 이용 :  [1, 4, 9, 16, 25, 36, 49]\n",
      "리스트 축약 이용(리스트 입력) : [1, 4, 9, 16, 25, 36, 49]\n",
      "리스트 축약 이용(범위 입력) :  [1, 4, 9, 16, 25, 36, 49]\n"
     ]
    }
   ],
   "source": [
    "#리스트 축약 표현: [ {표현식} for {변수} in {반복자/연속열} if {조건 표현식}]\n",
    "#예제 1 : 리스트 축약 없이 맵 함수로 구현\n",
    "a = [1, 2, 3, 4, 5, 6, 7]\n",
    "a = list(map(lambda x: x**2, a))\n",
    "print('맵 함수 이용 : ', a)\n",
    "\n",
    "#일단 if 조건 없이 앞부분(반복문 부분까지)만 이용\n",
    "#예제 2: 리스트 입력\n",
    "a = [1, 2, 3, 4, 5, 6, 7]\n",
    "a = [x**2 for x in a]\n",
    "print('리스트 축약 이용(리스트 입력) :', a)\n",
    "\n",
    "#예제 3: 반복 범위 입력\n",
    "a = [x**2 for x in range(1, 8)]\n",
    "print('리스트 축약 이용(범위 입력) : ', a)"
   ]
  },
  {
   "cell_type": "code",
   "execution_count": 56,
   "id": "746873eb",
   "metadata": {},
   "outputs": [
    {
     "name": "stdout",
     "output_type": "stream",
     "text": [
      "cubic = [1, 8, 27, 64, 125, 216, 343, 512, 729, 1000]\n",
      "first_a = ['w', 't', 't', 'p', 'w']\n"
     ]
    }
   ],
   "source": [
    "#LAB 10-5\n",
    "#1번\n",
    "cubic = [x**3 for x in range(1,11)]\n",
    "print('cubic =', cubic)\n",
    "\n",
    "#2번\n",
    "a = ['welcome', 'to', 'the', 'python', 'world']\n",
    "first_a = [x[:1] for x in a]\n",
    "print('first_a =', first_a)"
   ]
  },
  {
   "cell_type": "code",
   "execution_count": 57,
   "id": "1a6726b7",
   "metadata": {},
   "outputs": [
    {
     "name": "stdout",
     "output_type": "stream",
     "text": [
      "맵 함수 이용 :  [34, 39, 20, 54]\n",
      "리스트 축약 이용 : [34, 39, 20, 54]\n"
     ]
    }
   ],
   "source": [
    "#리스트 축약 표현: if 조건식을 이용한 필터링 기능 추가\n",
    "#예제 1: 리스트 축약 없이 맵 함수로 구현\n",
    "ages = [34, 39, 20, 18, 13, 54]\n",
    "adult_ages = list(filter(lambda x : x>=19, ages))\n",
    "print('맵 함수 이용 : ', adult_ages)\n",
    "\n",
    "#예제 2: 리스트 축약 표현을 이용한 필터링\n",
    "print('리스트 축약 이용 :', [x for x in ages if x>=19])"
   ]
  },
  {
   "cell_type": "code",
   "execution_count": 58,
   "id": "d2e72301",
   "metadata": {},
   "outputs": [
    {
     "name": "stdout",
     "output_type": "stream",
     "text": [
      "[0, 1, 2, 3, 4, 5, 6, 7, 8, 9]\n",
      "[0, 1, 4, 9, 16, 25, 36, 49, 64, 81]\n",
      "[0, 2, 4, 6, 8]\n",
      "[1, 3, 5, 7, 9]\n",
      "[0, 4, 16, 36, 64]\n",
      "[1, 9, 25, 49, 81]\n"
     ]
    }
   ],
   "source": [
    "#리스트 축약 추가 실습\n",
    "#0~9까지 숫자를 포함하는 리스트\n",
    "print([x for x in range(10)])\n",
    "\n",
    "#0~9까지 숫자의 제곱값\n",
    "print([x**2 for x in range(10)])\n",
    "\n",
    "#0~9까지 숫자 중 짝수 값\n",
    "print([x for x in range(10) if (x%2==0)])\n",
    "\n",
    "#0~9까지 숫자 중 홀수 값\n",
    "print([x for x in range(10) if (x%2!=0)])\n",
    "\n",
    "#0~9까지 숫자 중 짝수의 제곱값\n",
    "print([x**2 for x in range(10) if (x%2==0)])\n",
    "\n",
    "#0~9까지 숫자 중 홀수의 제곱값\n",
    "print([x**2 for x in range(10) if (x%2!=0)])"
   ]
  },
  {
   "cell_type": "code",
   "execution_count": 59,
   "id": "12b5dde7",
   "metadata": {},
   "outputs": [
    {
     "name": "stdout",
     "output_type": "stream",
     "text": [
      "정수 5개를 입력하세요 :1 2 3 4 5\n",
      "[1, 2, 3, 4, 5]\n",
      "정수를 5개 입력하세요 :1 2 3 4 5\n",
      "[1, 2, 3, 4, 5]\n"
     ]
    }
   ],
   "source": [
    "#정수를 여러 개 입력받는 두 가지 방법\n",
    "#1\n",
    "s = input('정수 5개를 입력하세요 :').split()\n",
    "lst = [int(x) for x in s]\n",
    "print(lst)\n",
    "\n",
    "#2\n",
    "print([int(x) for x in input('정수를 5개 입력하세요 :').split()])"
   ]
  },
  {
   "cell_type": "code",
   "execution_count": 60,
   "id": "0a8c4b0f",
   "metadata": {},
   "outputs": [
    {
     "name": "stdout",
     "output_type": "stream",
     "text": [
      "이중반복문만 사용: [2, 4, 6, 4, 8, 12, 6, 12, 18]\n",
      "리스트 축약 사용: [2, 4, 6, 4, 8, 12, 6, 12, 18]\n"
     ]
    }
   ],
   "source": [
    "#이중반복문 리스트 축약 형태로 표현하기\n",
    "#리스트 축약 안 쓰고 코드 구현\n",
    "product_xy = []\n",
    "for x in [1,2,3]:\n",
    "    for y in [2,4,6]:\n",
    "        product_xy.append(x*y)\n",
    "print('이중반복문만 사용:', product_xy)\n",
    "\n",
    "#리스트 축약 사용\n",
    "product__xy = [x*y for x in [1,2,3] for y in [2,4,6]]\n",
    "print('리스트 축약 사용:', product__xy)"
   ]
  },
  {
   "cell_type": "code",
   "execution_count": 61,
   "id": "cff52228",
   "metadata": {},
   "outputs": [
    {
     "name": "stdout",
     "output_type": "stream",
     "text": [
      "[6, 12, 18, 24, 30]\n",
      "[30]\n"
     ]
    }
   ],
   "source": [
    "#리스트 축약형으로 공배수 구하기\n",
    "#2와 3의 공배수 구하기\n",
    "print([n for n in range(1,31) if n%2 == 0 if n%3 == 0])\n",
    "\n",
    "#2와 3과 5의 배수 구하기\n",
    "print([n for n in range(1,31) \n",
    "       if n%2 == 0 \n",
    "       if n%3 == 0 \n",
    "       if n%5 == 0])"
   ]
  },
  {
   "cell_type": "code",
   "execution_count": 17,
   "id": "09256a0e",
   "metadata": {},
   "outputs": [
    {
     "name": "stdout",
     "output_type": "stream",
     "text": [
      "cubic = [1, 8, 27, 64, 125, 216, 343]\n",
      "['1', '2', '3', '4']\n"
     ]
    }
   ],
   "source": [
    "#LAB 10-6\n",
    "#1번\n",
    "cubic = [x**3 for x in range(1,11) if (x**3)<= 500]\n",
    "print('cubic =', cubic)\n",
    "\n",
    "#2번\n",
    "st = 'Hello 1234 Python'\n",
    "st = st.split(' ')\n",
    "digit_list = [list(x) for x in st if x.isdigit()]\n",
    "for i in digit_list:\n",
    "    print(i)"
   ]
  },
  {
   "cell_type": "code",
   "execution_count": 22,
   "id": "0d8be7b2",
   "metadata": {},
   "outputs": [
    {
     "name": "stdout",
     "output_type": "stream",
     "text": [
      "1\n",
      "3\n",
      "5\n",
      "7\n"
     ]
    }
   ],
   "source": [
    "#반복자 클래스 정의\n",
    "class OddCounter:\n",
    "    def __init__(self, n=1):\n",
    "        self.n = n\n",
    "        \n",
    "    def __iter__(self):\n",
    "        return self\n",
    "    \n",
    "    def __next__(self):\n",
    "        t = self.n\n",
    "        self.n += 2\n",
    "        return t\n",
    "    \n",
    "my_counter = OddCounter()\n",
    "print(next(my_counter))\n",
    "print(my_counter.__next__())\n",
    "print(my_counter.__next__())\n",
    "print(my_counter.__next__())"
   ]
  },
  {
   "cell_type": "code",
   "execution_count": 23,
   "id": "8c2e4b95",
   "metadata": {},
   "outputs": [
    {
     "name": "stdout",
     "output_type": "stream",
     "text": [
      "1 3 5 7 9 11 13 15 17 19 "
     ]
    }
   ],
   "source": [
    "#반복자 클래스 예외생성기능\n",
    "class OddCounter:\n",
    "    def __init__(self, n=1):\n",
    "        self.n = n\n",
    "        \n",
    "    def __iter__(self):\n",
    "        return self\n",
    "    \n",
    "    def __next__(self):\n",
    "        if self.n < 20: \n",
    "            t = self.n\n",
    "            self.n += 2\n",
    "            return t\n",
    "        raise StopIteration\n",
    "        \n",
    "my_counter = OddCounter()\n",
    "for x in my_counter:\n",
    "    print(x, end =' ')"
   ]
  },
  {
   "cell_type": "code",
   "execution_count": 34,
   "id": "f9a866a2",
   "metadata": {},
   "outputs": [
    {
     "name": "stdout",
     "output_type": "stream",
     "text": [
      "0 2 4 6 8 \n",
      "0 2 4 6 8 10 12 14 16 18 20 "
     ]
    }
   ],
   "source": [
    "#LAB 10-7 반복자 객체 만들기\n",
    "#1\n",
    "class EvenCounter:\n",
    "    def __init__(self, n=0):\n",
    "        self.n = n\n",
    "        \n",
    "    def __iter__(self):\n",
    "        return self\n",
    "    \n",
    "    def __next__(self):\n",
    "        temp = self.n\n",
    "        self.n += 2\n",
    "        return temp\n",
    "        \n",
    "        \n",
    "my_counter = EvenCounter()\n",
    "print(next(my_counter), end = ' ')\n",
    "print(my_counter.__next__(), end = ' ')\n",
    "print(my_counter.__next__(), end = ' ')\n",
    "print(my_counter.__next__(), end = ' ')\n",
    "print(my_counter.__next__(), end = ' ')\n",
    "print()\n",
    "\n",
    "#2\n",
    "my__counter = EvenCounter()\n",
    "for n in my__counter:\n",
    "    if(n>20):\n",
    "        break\n",
    "    print(n, end = ' ')"
   ]
  },
  {
   "cell_type": "code",
   "execution_count": 39,
   "id": "362105b4",
   "metadata": {},
   "outputs": [
    {
     "name": "stdout",
     "output_type": "stream",
     "text": [
      "all(l1): True\n",
      "all(l2): False\n",
      "all(l3): False\n",
      "\n",
      "any(l1): True\n",
      "any(l2): True\n",
      "any(l3): False\n",
      "\n",
      "bool(l1): True\n",
      "bool(l2): True\n",
      "bool(l3): True\n",
      "bool(l4): False\n"
     ]
    }
   ],
   "source": [
    "#반복가능 객체를 위한 내장함수\n",
    "l1 = [1,2,3,4]\n",
    "l2 = [0,2,4,8]\n",
    "l3 = [0,0,0,0]\n",
    "\n",
    "#all(): 반복 가능한 항목들이 모두 참일 때 참 반환\n",
    "print('all(l1):', all(l1))\n",
    "print('all(l2):', all(l2))\n",
    "print('all(l3):', all(l3))\n",
    "print()\n",
    "\n",
    "#any(): 임의의 반복 가능한 항목들 중에서 참이 하나라도 있을 경우 참 반환\n",
    "print('any(l1):', any(l1))\n",
    "print('any(l2):', any(l2))\n",
    "print('any(l3):', any(l3))\n",
    "print()\n",
    "\n",
    "#bool(): 값(리스트)을 부울 값으로 변환(=리스트의 항목 유무를 TF로 반환)\n",
    "print('bool(l1):', bool(l1))\n",
    "print('bool(l2):', bool(l2))\n",
    "print('bool(l3):', bool(l3))  #항목이 다 0이어도 항목이 있기만 하면 True\n",
    "l4 = []\n",
    "print('bool(l4):', bool(l4))"
   ]
  },
  {
   "cell_type": "code",
   "execution_count": 41,
   "id": "7549482e",
   "metadata": {},
   "outputs": [
    {
     "name": "stdout",
     "output_type": "stream",
     "text": [
      "['h', 'e', 'l', 'l', 'o']\n",
      "['Python은', '아름다운', '언어입니다']\n",
      "['2019', '02', '20']\n",
      "2019.02.20\n",
      "2019-02-20\n"
     ]
    }
   ],
   "source": [
    "#문자열과 리스트\n",
    "#문자열을 문자리스트로 변환\n",
    "char_list = list('hello')\n",
    "print(char_list)\n",
    "\n",
    "#문자열 공백기준으로 자르기\n",
    "words = 'Python은 아름다운 언어입니다'\n",
    "words_list = words.split()\n",
    "print(words_list)\n",
    "\n",
    "#공백이 아닌 구분자 지정하기\n",
    "time_str = '2019.02.20'\n",
    "time_list = time_str.split('.')\n",
    "print(time_list)\n",
    "\n",
    "#문자열 연결자로 합치기\n",
    "print('.'.join(time_list))\n",
    "print('-'.join(time_list))"
   ]
  },
  {
   "cell_type": "code",
   "execution_count": 44,
   "id": "dfa1d27e",
   "metadata": {},
   "outputs": [
    {
     "name": "stdout",
     "output_type": "stream",
     "text": [
      "['Welcome', 'to', 'Busan', 'Metropolitan', 'City.']\n",
      "['Hello', 'My name is DongMin', 'Good to see you again']\n",
      "['Apple', 'Banana', 'Melon', 'Orange']\n"
     ]
    }
   ],
   "source": [
    "#LAB 10-8\n",
    "#1번\n",
    "txt = 'Welcome to Busan Metropolitan City.'\n",
    "print(txt.split())\n",
    "\n",
    "#2\n",
    "greet = 'Hello,My name is DongMin,Good to see you again'\n",
    "print(greet.split(','))\n",
    "\n",
    "#3\n",
    "fruits = 'Apple|Banana|Melon|Orange'\n",
    "fruits_list = list(fruits.split('|'))\n",
    "print(fruits_list)"
   ]
  },
  {
   "cell_type": "code",
   "execution_count": null,
   "id": "237a55cd",
   "metadata": {},
   "outputs": [],
   "source": []
  }
 ],
 "metadata": {
  "kernelspec": {
   "display_name": "Python 3 (ipykernel)",
   "language": "python",
   "name": "python3"
  },
  "language_info": {
   "codemirror_mode": {
    "name": "ipython",
    "version": 3
   },
   "file_extension": ".py",
   "mimetype": "text/x-python",
   "name": "python",
   "nbconvert_exporter": "python",
   "pygments_lexer": "ipython3",
   "version": "3.9.12"
  }
 },
 "nbformat": 4,
 "nbformat_minor": 5
}
