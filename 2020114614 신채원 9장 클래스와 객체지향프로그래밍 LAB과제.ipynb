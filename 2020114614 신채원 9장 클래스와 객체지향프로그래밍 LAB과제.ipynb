{
 "cells": [
  {
   "cell_type": "code",
   "execution_count": 16,
   "id": "3b9a8b40",
   "metadata": {},
   "outputs": [
    {
     "name": "stdout",
     "output_type": "stream",
     "text": [
      "1번\n",
      "100\n",
      "20000\n",
      "2.0\n",
      "\n",
      "2번\n",
      "40\n",
      "\n",
      "3번\n",
      "2) keys(), 3) get()\n",
      "\n",
      "4번\n",
      "['__abs__', '__add__', '__and__', '__bool__', '__ceil__', '__class__', '__delattr__', '__dir__', '__divmod__', '__doc__', '__eq__', '__float__', '__floor__', '__floordiv__', '__format__', '__ge__', '__getattribute__', '__getnewargs__', '__gt__', '__hash__', '__index__', '__init__', '__init_subclass__', '__int__', '__invert__', '__le__', '__lshift__', '__lt__', '__mod__', '__mul__', '__ne__', '__neg__', '__new__', '__or__', '__pos__', '__pow__', '__radd__', '__rand__', '__rdivmod__', '__reduce__', '__reduce_ex__', '__repr__', '__rfloordiv__', '__rlshift__', '__rmod__', '__rmul__', '__ror__', '__round__', '__rpow__', '__rrshift__', '__rshift__', '__rsub__', '__rtruediv__', '__rxor__', '__setattr__', '__sizeof__', '__str__', '__sub__', '__subclasshook__', '__truediv__', '__trunc__', '__xor__', 'as_integer_ratio', 'bit_length', 'conjugate', 'denominator', 'from_bytes', 'imag', 'numerator', 'real', 'to_bytes']\n",
      "\n",
      "5번\n",
      "['__add__', '__class__', '__class_getitem__', '__contains__', '__delattr__', '__delitem__', '__dir__', '__doc__', '__eq__', '__format__', '__ge__', '__getattribute__', '__getitem__', '__gt__', '__hash__', '__iadd__', '__imul__', '__init__', '__init_subclass__', '__iter__', '__le__', '__len__', '__lt__', '__mul__', '__ne__', '__new__', '__reduce__', '__reduce_ex__', '__repr__', '__reversed__', '__rmul__', '__setattr__', '__setitem__', '__sizeof__', '__str__', '__subclasshook__', 'append', 'clear', 'copy', 'count', 'extend', 'index', 'insert', 'pop', 'remove', 'reverse', 'sort']\n"
     ]
    }
   ],
   "source": [
    "#LAB 9-1\n",
    "#1\n",
    "print(\"1번\")\n",
    "print((200).__sub__(100))\n",
    "print((200).__mul__(100))\n",
    "print((200).__truediv__(100))\n",
    "\n",
    "#2\n",
    "print('\\n2번')\n",
    "print([10,20,30,40].pop())\n",
    "\n",
    "#3\n",
    "print('\\n3번')\n",
    "print('2) keys(), 3) get()')\n",
    "\n",
    "#4\n",
    "print('\\n4번')\n",
    "print(dir(int))\n",
    "\n",
    "#5\n",
    "print('\\n5번')\n",
    "print(dir(list))"
   ]
  },
  {
   "cell_type": "code",
   "execution_count": 18,
   "id": "71d5c637",
   "metadata": {},
   "outputs": [
    {
     "name": "stdout",
     "output_type": "stream",
     "text": [
      "야옹\n"
     ]
    }
   ],
   "source": [
    "#클래스의 정의 방법\n",
    "class cat:\n",
    "    def meow(self):  #self: 자기 자신을 참조하는 변수. 호출 시 넣어주지 않아도 O\n",
    "        print('야옹')\n",
    "\n",
    "nabi = cat()\n",
    "nabi.meow()"
   ]
  },
  {
   "cell_type": "code",
   "execution_count": 19,
   "id": "60873e61",
   "metadata": {},
   "outputs": [
    {
     "name": "stdout",
     "output_type": "stream",
     "text": [
      "멍멍\n"
     ]
    }
   ],
   "source": [
    "#LAB 9-4\n",
    "class Dog():\n",
    "    def bark(self):\n",
    "        print('멍멍')\n",
    "        \n",
    "my_dog = Dog()\n",
    "my_dog.bark()"
   ]
  },
  {
   "cell_type": "code",
   "execution_count": 20,
   "id": "4c6a238b",
   "metadata": {},
   "outputs": [
    {
     "name": "stdout",
     "output_type": "stream",
     "text": [
      "내 이름은 나비, 색깔은 검정색, 야옹\n",
      "내 이름은 네로, 색깔은 흰색, 야옹\n",
      "내 이름은 미미, 색깔은 갈색, 야옹\n"
     ]
    }
   ],
   "source": [
    "#생성자를 가진 Cat 클래스의 정의와 인스턴스 생성\n",
    "class Cat:\n",
    "    def __init__(self, name, color = '흰색'):#color: 디폴트. 호출 시 안 넣어주면\n",
    "                                                #무조건 흰색 고양이\n",
    "        self.name = name\n",
    "        self.color = color\n",
    "        \n",
    "    def meow(self):\n",
    "        print('내 이름은 {}, 색깔은 {}, 야옹'.format(self.name, self.color))\n",
    "\n",
    "nabi = Cat('나비', '검정색')\n",
    "nero = Cat('네로', '흰색')\n",
    "mimi = Cat('미미', '갈색')\n",
    "\n",
    "nabi.meow()\n",
    "nero.meow()\n",
    "mimi.meow()"
   ]
  },
  {
   "cell_type": "code",
   "execution_count": 22,
   "id": "bc180dd0",
   "metadata": {},
   "outputs": [
    {
     "name": "stdout",
     "output_type": "stream",
     "text": [
      "내 이름은 Jindo, 멍멍\n"
     ]
    }
   ],
   "source": [
    "#LAB 9-5\n",
    "class Dog:\n",
    "    def __init__(self, name):\n",
    "        self.name = name\n",
    "    \n",
    "    def bark(self):\n",
    "        print('내 이름은 {}, 멍멍'.format(self.name))\n",
    "        \n",
    "my_dog = Dog('Jindo')\n",
    "my_dog.bark()"
   ]
  },
  {
   "cell_type": "code",
   "execution_count": 23,
   "id": "31da16d5",
   "metadata": {},
   "outputs": [
    {
     "name": "stdout",
     "output_type": "stream",
     "text": [
      "Cat(name= 나비, color = 검정색)\n",
      "Cat(name= 네로, color = 흰색)\n"
     ]
    }
   ],
   "source": [
    "#__str__메소드와 print() 함수에서 적용하기\n",
    "class Cat:\n",
    "    def __init__(self, name, color):\n",
    "        self.name = name\n",
    "        self.color = color\n",
    "        \n",
    "    def __str__(self):\n",
    "        return 'Cat(name= '+self.name+', color = '+self.color+')'\n",
    "    \n",
    "nabi = Cat('나비', '검정색')\n",
    "nero = Cat('네로', '흰색')\n",
    "print(nabi)\n",
    "print(nero)"
   ]
  },
  {
   "cell_type": "code",
   "execution_count": 25,
   "id": "872b96a5",
   "metadata": {},
   "outputs": [
    {
     "name": "stdout",
     "output_type": "stream",
     "text": [
      "my_dog의 정보 : Dog(name = Jindo)\n"
     ]
    }
   ],
   "source": [
    "#LAB 9-6\n",
    "class Dog:\n",
    "    def __init__(self, name):\n",
    "        self.name = name\n",
    "        \n",
    "    def __str__(self):\n",
    "        return 'my_dog의 정보 : Dog(name = '+self.name+')'\n",
    "        \n",
    "my_dog = Dog('Jindo')\n",
    "print(my_dog)"
   ]
  },
  {
   "cell_type": "code",
   "execution_count": 26,
   "id": "68aa6605",
   "metadata": {},
   "outputs": [
    {
     "name": "stdout",
     "output_type": "stream",
     "text": [
      "n is m\n"
     ]
    }
   ],
   "source": [
    "#LAB 9-7\n",
    "n = 100\n",
    "m = 100\n",
    "if n is m:\n",
    "    print('n is m')\n",
    "else:\n",
    "    print(' n is not m')\n",
    "\n",
    "#이유: is 연산자는 두 인스턴스가 같으면 True를 반환.\n",
    "#      지금 두 인스턴스의 값이 같으므로 True가 반환되어, 해당 출력문이 출력됨"
   ]
  },
  {
   "cell_type": "code",
   "execution_count": 28,
   "id": "c63bf0ce",
   "metadata": {},
   "outputs": [
    {
     "name": "stdout",
     "output_type": "stream",
     "text": [
      "v1+v2 =  (40, 60)\n",
      "v1-v2 = (20, 20)\n"
     ]
    }
   ],
   "source": [
    "#벡터 연산 구현하기\n",
    "class Vector2D:\n",
    "    def __init__(self,x,y):\n",
    "        self.x = x\n",
    "        self.y = y\n",
    "    def __add__(self,other):\n",
    "        return Vector2D(self.x + other.x, self.y + other.y)\n",
    "    def __sub__(self, other):\n",
    "        return Vector2D(self.x - other.x, self.y - other.y)\n",
    "    def __str__(self):\n",
    "        return \"({}, {})\".format(self.x, self.y)\n",
    "    \n",
    "v1 = Vector2D(30,40)\n",
    "v2 = Vector2D(10,20)\n",
    "v3 = v1 + v2\n",
    "print(\"v1+v2 = \", v3)\n",
    "v4 = v1 - v2\n",
    "print(\"v1-v2 =\", v4)"
   ]
  },
  {
   "cell_type": "code",
   "execution_count": 36,
   "id": "11e62e8f",
   "metadata": {},
   "outputs": [
    {
     "name": "stdout",
     "output_type": "stream",
     "text": [
      "1번\n",
      "v1*v2 =  (300, 800)\n",
      "v1/v2 =  (3.0, 2.0)\n",
      "\n",
      "2번\n",
      "-v1 =  (-10, -20)\n"
     ]
    }
   ],
   "source": [
    "#LAB 9-8\n",
    "#1\n",
    "print('1번')\n",
    "class Vector2D:\n",
    "    def __init__(self,x,y):\n",
    "        self.x = x\n",
    "        self.y = y\n",
    "    def __mul__(self, other):\n",
    "        return Vector2D(self.x * other.x, self.y * other.y)\n",
    "    def __truediv__(self, other):\n",
    "        return Vector2D(self.x / other.x, self.y / other.y)\n",
    "    def __neg__(self):\n",
    "        return Vector2D(-(self.x), -(self.y))\n",
    "    def __str__(self):\n",
    "        return \"({}, {})\".format(self.x, self.y)\n",
    "    \n",
    "v1 = Vector2D(30, 40)\n",
    "v2 = Vector2D(10, 20)\n",
    "v3 = v1*v2\n",
    "print(\"v1*v2 = \", v3)\n",
    "v4 = v1/v2\n",
    "print(\"v1/v2 = \", v4)\n",
    "\n",
    "#2\n",
    "print('\\n2번')\n",
    "v1 = Vector2D(10,20)\n",
    "v5 = -v1\n",
    "print('-v1 = ', v5)"
   ]
  },
  {
   "cell_type": "code",
   "execution_count": 46,
   "id": "303254e0",
   "metadata": {},
   "outputs": [
    {
     "name": "stdout",
     "output_type": "stream",
     "text": [
      "v1 > v2 =  True\n",
      "v1 >= v2 =  True\n",
      "v1 < v2 =  False\n",
      "v1 <= v2 =  False\n"
     ]
    }
   ],
   "source": [
    "#LAB 9-9\n",
    "class Vector2D:\n",
    "    def __init__(self,x,y):\n",
    "        self.x = x\n",
    "        self.y = y\n",
    "    def __lt__(self, other):\n",
    "        return (self.x < other.x) and (self.x < other.y)\n",
    "    def __le__(self, other):\n",
    "        return (self.x <= other.x) and (self.x <= other.y)\n",
    "    def __gt__(self, other):\n",
    "        return (self.x > other.x) and (self.x > other.y)\n",
    "    def __ge__(self, other):\n",
    "        return (self.x >= other.x) and (self.x >= other.y)\n",
    "\n",
    "v1 = Vector2D(30,40)\n",
    "v2 = Vector2D(10,20)\n",
    "v3 = v1 > v2\n",
    "print('v1 > v2 = ', v3)\n",
    "v4 = v1 >= v2\n",
    "print('v1 >= v2 = ', v4)\n",
    "v5 = v1 < v2\n",
    "print('v1 < v2 = ', v5)\n",
    "v6 = v1 <= v2\n",
    "print('v1 <= v2 = ', v6)"
   ]
  },
  {
   "cell_type": "code",
   "execution_count": 49,
   "id": "a60152d9",
   "metadata": {},
   "outputs": [
    {
     "name": "stdout",
     "output_type": "stream",
     "text": [
      "c1의 면적: 50.264\n",
      "c2의 면적: 113.09400000000001\n",
      "c3의 면적: 78.53750000000001\n"
     ]
    }
   ],
   "source": [
    "#Circle\n",
    "class Circle:\n",
    "    PI = 3.1415\n",
    "    def __init__(self, name, radius):\n",
    "        self.name = name\n",
    "        self.radius = radius\n",
    "        \n",
    "    def area(self):\n",
    "        return Circle.PI * self.radius ** 2\n",
    "\n",
    "c1 = Circle(\"C1\", 4)\n",
    "print('c1의 면적:', c1.area())\n",
    "c2 = Circle(\"c2\", 6)\n",
    "print('c2의 면적:', c2.area())\n",
    "c3 = Circle(\"c3\", 5)\n",
    "print('c3의 면적:', c3.area())"
   ]
  },
  {
   "cell_type": "code",
   "execution_count": 52,
   "id": "617a33f3",
   "metadata": {},
   "outputs": [
    {
     "name": "stdout",
     "output_type": "stream",
     "text": [
      "1번\n",
      "{'width': 100, 'height': 200}\n",
      "100\n",
      "\n",
      "2번\n",
      "{'_Rect__width': 100, '_Rect__height': 200}\n",
      "100\n"
     ]
    }
   ],
   "source": [
    "#LAB 9-10\n",
    "#1\n",
    "print('1번')\n",
    "class Rect:\n",
    "    def __init__(self, width, height):\n",
    "        self.width = width\n",
    "        self.height = height\n",
    "\n",
    "r1 = Rect(100,200)\n",
    "print(r1.__dict__)\n",
    "print(r1.__dict__['width'])\n",
    "\n",
    "#2\n",
    "print('\\n2번')\n",
    "class Rect:\n",
    "    def __init__(self, width, height):\n",
    "        self.__width = width\n",
    "        self.__height = height\n",
    "        \n",
    "r1 = Rect(100,200)\n",
    "print(r1.__dict__)\n",
    "print(r1.__dict__['_Rect__width'])"
   ]
  },
  {
   "cell_type": "code",
   "execution_count": null,
   "id": "5bb8ff67",
   "metadata": {},
   "outputs": [],
   "source": []
  }
 ],
 "metadata": {
  "kernelspec": {
   "display_name": "Python 3 (ipykernel)",
   "language": "python",
   "name": "python3"
  },
  "language_info": {
   "codemirror_mode": {
    "name": "ipython",
    "version": 3
   },
   "file_extension": ".py",
   "mimetype": "text/x-python",
   "name": "python",
   "nbconvert_exporter": "python",
   "pygments_lexer": "ipython3",
   "version": "3.9.12"
  }
 },
 "nbformat": 4,
 "nbformat_minor": 5
}
